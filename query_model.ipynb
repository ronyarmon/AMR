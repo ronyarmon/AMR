{
  "nbformat": 4,
  "nbformat_minor": 0,
  "metadata": {
    "colab": {
      "name": "query_model.ipynb",
      "provenance": [],
      "authorship_tag": "ABX9TyN1M1EyAkBxHX0P8RFidguc",
      "include_colab_link": true
    },
    "kernelspec": {
      "name": "python3",
      "display_name": "Python 3"
    },
    "language_info": {
      "name": "python"
    }
  },
  "cells": [
    {
      "cell_type": "markdown",
      "metadata": {
        "id": "view-in-github",
        "colab_type": "text"
      },
      "source": [
        "<a href=\"https://colab.research.google.com/github/ronyarmon/AMR/blob/master/query_model.ipynb\" target=\"_parent\"><img src=\"https://colab.research.google.com/assets/colab-badge.svg\" alt=\"Open In Colab\"/></a>"
      ]
    },
    {
      "cell_type": "markdown",
      "metadata": {
        "id": "_gFdWFgALs10"
      },
      "source": [
        "#Functions"
      ]
    },
    {
      "cell_type": "code",
      "metadata": {
        "id": "SCNZmW3GLsQ5"
      },
      "source": [
        "import os\n",
        "import pandas as pd \n",
        "from google.colab import drive\n",
        "from sqlite3 import connect\n",
        "conn = connect(':memory:')  "
      ],
      "execution_count": 1,
      "outputs": []
    },
    {
      "cell_type": "markdown",
      "metadata": {
        "id": "qF2dMS7XLpGn"
      },
      "source": [
        "#Columns metadata"
      ]
    },
    {
      "cell_type": "code",
      "metadata": {
        "colab": {
          "base_uri": "https://localhost:8080/"
        },
        "id": "xBYdTLQOLcOS",
        "outputId": "0d7397f6-9745-4eba-c741-20762056f9c3"
      },
      "source": [
        "data_results_path = '/content/drive/MyDrive/data_results/mlb-player-digital-engagement-forecasting'\n",
        "drive.mount('/content/drive')\n",
        "file_path = os.path.join(data_results_path, 'columns_classification.csv')\n",
        "columns_md = pd.read_csv(file_path)\n",
        "predictors = list(columns_md['column'][columns_md['role']=='predictor'])\n",
        "date_fields = list(columns_md['column'][columns_md['role']=='date'])"
      ],
      "execution_count": 2,
      "outputs": [
        {
          "output_type": "stream",
          "text": [
            "Mounted at /content/drive\n"
          ],
          "name": "stdout"
        }
      ]
    },
    {
      "cell_type": "code",
      "metadata": {
        "colab": {
          "base_uri": "https://localhost:8080/",
          "height": 206
        },
        "id": "T_PHPzcpaL2F",
        "outputId": "cf0d1673-ebe8-486a-dff9-2c0dc4c5bb6d"
      },
      "source": [
        "columns_md.head()"
      ],
      "execution_count": 3,
      "outputs": [
        {
          "output_type": "execute_result",
          "data": {
            "text/html": [
              "<div>\n",
              "<style scoped>\n",
              "    .dataframe tbody tr th:only-of-type {\n",
              "        vertical-align: middle;\n",
              "    }\n",
              "\n",
              "    .dataframe tbody tr th {\n",
              "        vertical-align: top;\n",
              "    }\n",
              "\n",
              "    .dataframe thead th {\n",
              "        text-align: right;\n",
              "    }\n",
              "</style>\n",
              "<table border=\"1\" class=\"dataframe\">\n",
              "  <thead>\n",
              "    <tr style=\"text-align: right;\">\n",
              "      <th></th>\n",
              "      <th>column</th>\n",
              "      <th>topic</th>\n",
              "      <th>role</th>\n",
              "      <th>source_type</th>\n",
              "      <th>inferred_type</th>\n",
              "      <th>values_count</th>\n",
              "    </tr>\n",
              "  </thead>\n",
              "  <tbody>\n",
              "    <tr>\n",
              "      <th>0</th>\n",
              "      <td>gameTimeUTC</td>\n",
              "      <td>teamBoxScores</td>\n",
              "      <td>time</td>\n",
              "      <td>object</td>\n",
              "      <td>numeric</td>\n",
              "      <td>4501</td>\n",
              "    </tr>\n",
              "    <tr>\n",
              "      <th>1</th>\n",
              "      <td>gameTimeUTC</td>\n",
              "      <td>games</td>\n",
              "      <td>time</td>\n",
              "      <td>object</td>\n",
              "      <td>numeric</td>\n",
              "      <td>5108</td>\n",
              "    </tr>\n",
              "    <tr>\n",
              "      <th>2</th>\n",
              "      <td>gameTimeUTC</td>\n",
              "      <td>events</td>\n",
              "      <td>time</td>\n",
              "      <td>object</td>\n",
              "      <td>numeric</td>\n",
              "      <td>4499</td>\n",
              "    </tr>\n",
              "    <tr>\n",
              "      <th>3</th>\n",
              "      <td>gameTimeUTC</td>\n",
              "      <td>playerBoxScores</td>\n",
              "      <td>time</td>\n",
              "      <td>object</td>\n",
              "      <td>numeric</td>\n",
              "      <td>4501</td>\n",
              "    </tr>\n",
              "    <tr>\n",
              "      <th>4</th>\n",
              "      <td>gameType</td>\n",
              "      <td>games</td>\n",
              "      <td>predictor</td>\n",
              "      <td>object</td>\n",
              "      <td>categorical</td>\n",
              "      <td>8</td>\n",
              "    </tr>\n",
              "  </tbody>\n",
              "</table>\n",
              "</div>"
            ],
            "text/plain": [
              "        column            topic  ... inferred_type values_count\n",
              "0  gameTimeUTC    teamBoxScores  ...       numeric         4501\n",
              "1  gameTimeUTC            games  ...       numeric         5108\n",
              "2  gameTimeUTC           events  ...       numeric         4499\n",
              "3  gameTimeUTC  playerBoxScores  ...       numeric         4501\n",
              "4     gameType            games  ...   categorical            8\n",
              "\n",
              "[5 rows x 6 columns]"
            ]
          },
          "metadata": {
            "tags": []
          },
          "execution_count": 3
        }
      ]
    },
    {
      "cell_type": "markdown",
      "metadata": {
        "id": "18Hr827ZwRrW"
      },
      "source": [
        "# Topic: Columns overlap"
      ]
    },
    {
      "cell_type": "code",
      "metadata": {
        "id": "pSy9TnWcwrMA",
        "outputId": "ba7d263c-bc8f-4012-9459-fe5f1aa8c3f3",
        "colab": {
          "base_uri": "https://localhost:8080/"
        }
      },
      "source": [
        "# playerId_date_topics \n",
        "topics = list(set(columns_md['topic']))\n",
        "print ('topics:', topics)\n",
        "playerId_date_topics = {}\n",
        "all_columns = []\n",
        "for topic in topics:\n",
        "  topic_columns = list(columns_md['column'][columns_md['topic']==topic])\n",
        "  all_columns += topic_columns\n",
        "print ('all columns:', all_columns)\n",
        "\n",
        "columns_overlap = {}\n",
        "for column in all_columns:\n",
        "  columns_topics = list(columns_md['topic'][columns_md['column']==column])\n",
        "  columns_values = list(columns_md['values_count'][columns_md['column']==column])\n",
        "  topics_values = dict(zip(columns_topics, columns_values))\n",
        "  if len (columns_topics)>1:\n",
        "    columns_overlap [column] = topics_values\n",
        "\n",
        "for k,v in columns_overlap.items(): print (k,v)"
      ],
      "execution_count": 14,
      "outputs": [
        {
          "output_type": "stream",
          "text": [
            "topics: ['teamTwitterFollowers', 'awards', 'games', 'rosters', 'playerBoxScores', 'standings', 'df3', 'columns_classification', 'teamBoxScores', 'events', 'transactions', 'playerTwitterFollowers']\n",
            "all columns: ['numberOfFollowers', 'twitterHandle', 'teamId', 'date', 'awardSeason', 'awardId', 'playerId', 'awardPlayerTeamId', 'awardDate', 'gameTimeUTC', 'gameType', 'gamePk', 'scheduledInnings', 'homeScore', 'homeWinner', 'homeWinPct', 'homeLosses', 'homeWins', 'homeAbbrev', 'gamesInSeries', 'dayNight', 'doubleHeader', 'gameNumber', 'isTie', 'detailedGameState', 'codedGameState', 'resumedFrom', 'season', 'awayAbbrev', 'awayWins', 'awayLosses', 'awayWinPct', 'awayScore', 'awayWinner', 'awayId', 'homeId', 'seriesDescription', 'gameDate', 'resumeDate', 'status', 'statusCode', 'playerId', 'teamId', 'gameDate', 'gameTimeUTC', 'gamePk', 'home', 'jerseyNum', 'positionType', 'positionCode', 'strikes', 'pitchesThrown', 'outsPitching', 'battersFaced', 'earnedRuns', 'saveOpportunities', 'inningsPitched', 'stolenBasesPitching', 'caughtStealingPitching', 'atBatsPitching', 'hitByPitchPitching', 'hitsPitching', 'intentionalWalksPitching', 'baseOnBallsPitching', 'strikeOutsPitching', 'homeRunsPitching', 'balls', 'hitBatsmen', 'battingOrder', 'balks', 'errors', 'putOuts', 'assists', 'blownSaves', 'holds', 'saves', 'sacFliesPitching', 'sacBuntsPitching', 'catchersInterferencePitching', 'inheritedRunnersScored', 'inheritedRunners', 'gamesFinishedPitching', 'rbiPitching', 'pickoffsPitching', 'wildPitches', 'triplesPitching', 'doublesPitching', 'runsPitching', 'groundOutsPitching', 'stolenBases', 'caughtStealing', 'atBats', 'hitByPitch', 'hits', 'intentionalWalks', 'baseOnBalls', 'strikeOuts', 'homeRuns', 'triples', 'doubles', 'runsScored', 'groundOuts', 'flyOuts', 'gamesPlayedBatting', 'groundIntoDoublePlay', 'groundIntoTriplePlay', 'plateAppearances', 'gamesStartedPitching', 'airOutsPitching', 'flyOutsPitching', 'lossesPitching', 'winsPitching', 'shutoutsPitching', 'completeGamesPitching', 'gamesPlayedPitching', 'totalBases', 'pickoffs', 'catchersInterference', 'sacFlies', 'sacBunts', 'leftOnBase', 'rbi', 'chances', 'teamId', 'playerId', 'gameDate', 'dayWins', 'divisionLeader', 'wildCardLeader', 'eliminationNumber', 'wildCardEliminationNumber', 'homeWins', 'homeLosses', 'awayWins', 'lastTenWins', 'lastTenLosses', 'extraInningWins', 'extraInningLosses', 'oneRunWins', 'oneRunLosses', 'dayLosses', 'runsScored', 'nightWins', 'nightLosses', 'grassWins', 'grassLosses', 'turfWins', 'turfLosses', 'divWins', 'divLosses', 'alWins', 'alLosses', 'nlWins', 'nlLosses', 'xWinLossPct', 'divisionChamp', 'awayLosses', 'runsAllowed', 'wildCardRank', 'season', 'streakCode', 'pct', 'leagueRank', 'divisionRank', 'leagueGamesBack', 'sportGamesBack', 'divisionGamesBack', 'wins', 'losses', 'teamId', 'divisionId', 'gameDate', 'c', 'b', 'a', 'values_count', 'inferred_type', 'source_type', 'role', 'topic', 'column', 'gameTimeUTC', 'balks', 'sacFlies', 'triplesPitching', 'doublesPitching', 'runsPitching', 'groundOutsPitching', 'airOutsPitching', 'pickoffs', 'catchersInterference', 'sacBunts', 'atBats', 'leftOnBase', 'rbi', 'totalBases', 'plateAppearances', 'groundIntoTriplePlay', 'groundIntoDoublePlay', 'stolenBases', 'homeRunsPitching', 'strikeOutsPitching', 'baseOnBallsPitching', 'intentionalWalksPitching', 'inheritedRunners', 'rbiPitching', 'pickoffsPitching', 'wildPitches', 'hitBatsmen', 'outsPitching', 'battersFaced', 'earnedRuns', 'inningsPitched', 'stolenBasesPitching', 'caughtStealingPitching', 'atBatsPitching', 'hitByPitchPitching', 'hitsPitching', 'caughtStealing', 'hitByPitch', 'catchersInterferencePitching', 'hits', 'intentionalWalks', 'baseOnBalls', 'strikeOuts', 'homeRuns', 'triples', 'doubles', 'runsScored', 'groundOuts', 'flyOuts', 'gamePk', 'home', 'inheritedRunnersScored', 'sacBuntsPitching', 'sacFliesPitching', 'teamId', 'gameDate', 'gameTimeUTC', 'type', 'y0', 'x0', 'y', 'x', 'vZ0', 'vY0', 'vX0', 'pfxZ', 'pfxX', 'aZ', 'aY', 'aX', 'pZ', 'pX', 'spinDirection', 'z0', 'zone', 'halfInning', 'gameType', 'spinRate', 'breakY', 'breakLength', 'strikes', 'balls', 'pitchNumber', 'batSide', 'pitcherHand', 'isStarter', 'hitterTeam', 'pitcherTeam', 'isPitcherHome', 'hasOut', 'atBatEvent', 'atBatIndex', 'menOnBase', 'awayScore', 'homeScore', 'isGB', 'isLD', 'isFB', 'outs', 'breakAngle', 'nastyFactor', 'endSpeed', 'startSpeed', 'isPaOver', 'inPlay', 'call', 'isPU', 'pitchType', 'rbi', 'event', 'totalDistance', 'launchAngle', 'launchSpeed', 'season', 'inning', 'gamePk', 'hitterTeamId', 'pitcherTeamId', 'eventId', 'playId', 'pitcherId', 'hitterId', 'description', 'atBatDesc', 'gameDate', 'typeCode', 'playerId', 'fromTeamId', 'transactionId', 'toTeamId', 'typeDesc', 'description', 'effectiveDate', 'resolutionDate', 'date', 'twitterHandle', 'numberOfFollowers', 'playerId', 'date']\n",
            "numberOfFollowers {'teamTwitterFollowers': 1197, 'playerTwitterFollowers': 24822}\n",
            "twitterHandle {'playerTwitterFollowers': 1446, 'teamTwitterFollowers': 30}\n",
            "teamId {'teamTwitterFollowers': 30, 'playerBoxScores': 32, 'standings': 30, 'teamBoxScores': 32, 'rosters': 30}\n",
            "date {'playerTwitterFollowers': 40, 'teamTwitterFollowers': 40, 'transactions': 1103}\n",
            "playerId {'transactions': 10711, 'playerTwitterFollowers': 1447, 'awards': 2782, 'playerBoxScores': 2004, 'rosters': 2262}\n",
            "gameTimeUTC {'teamBoxScores': 4501, 'games': 5108, 'events': 4499, 'playerBoxScores': 4501}\n",
            "gameType {'games': 8, 'events': 5}\n",
            "gamePk {'playerBoxScores': 6264, 'games': 7693, 'events': 6262, 'teamBoxScores': 6264}\n",
            "homeScore {'events': 25, 'games': 24}\n",
            "homeLosses {'games': 115, 'standings': 59}\n",
            "homeWins {'games': 106, 'standings': 60}\n",
            "season {'events': 4, 'games': 4, 'standings': 4}\n",
            "awayWins {'games': 107, 'standings': 56}\n",
            "awayLosses {'games': 114, 'standings': 62}\n",
            "awayScore {'events': 24, 'games': 22}\n",
            "gameDate {'games': 639, 'rosters': 1216, 'standings': 531, 'teamBoxScores': 538, 'playerBoxScores': 538, 'events': 536}\n",
            "home {'playerBoxScores': 1, 'teamBoxScores': 1}\n",
            "strikes {'events': 3, 'playerBoxScores': 88}\n",
            "outsPitching {'playerBoxScores': 27, 'teamBoxScores': 40}\n",
            "battersFaced {'playerBoxScores': 36, 'teamBoxScores': 58}\n",
            "earnedRuns {'playerBoxScores': 12, 'teamBoxScores': 24}\n",
            "inningsPitched {'playerBoxScores': 27, 'teamBoxScores': 40}\n",
            "stolenBasesPitching {'playerBoxScores': 6, 'teamBoxScores': 5}\n",
            "caughtStealingPitching {'playerBoxScores': 3, 'teamBoxScores': 3}\n",
            "atBatsPitching {'playerBoxScores': 34, 'teamBoxScores': 49}\n",
            "hitByPitchPitching {'playerBoxScores': 4, 'teamBoxScores': 6}\n",
            "hitsPitching {'playerBoxScores': 14, 'teamBoxScores': 27}\n",
            "intentionalWalksPitching {'playerBoxScores': 3, 'teamBoxScores': 3}\n",
            "baseOnBallsPitching {'playerBoxScores': 8, 'teamBoxScores': 14}\n",
            "strikeOutsPitching {'playerBoxScores': 17, 'teamBoxScores': 26}\n",
            "homeRunsPitching {'playerBoxScores': 5, 'teamBoxScores': 8}\n",
            "balls {'events': 4, 'playerBoxScores': 56}\n",
            "hitBatsmen {'playerBoxScores': 4, 'teamBoxScores': 6}\n",
            "balks {'playerBoxScores': 2, 'teamBoxScores': 0}\n",
            "sacFliesPitching {'playerBoxScores': 3, 'teamBoxScores': 4}\n",
            "sacBuntsPitching {'playerBoxScores': 2, 'teamBoxScores': 3}\n",
            "catchersInterferencePitching {'playerBoxScores': 2, 'teamBoxScores': 2}\n",
            "inheritedRunnersScored {'playerBoxScores': 3, 'teamBoxScores': 0}\n",
            "inheritedRunners {'playerBoxScores': 3, 'teamBoxScores': 0}\n",
            "rbiPitching {'playerBoxScores': 12, 'teamBoxScores': 24}\n",
            "pickoffsPitching {'playerBoxScores': 2, 'teamBoxScores': 2}\n",
            "wildPitches {'playerBoxScores': 4, 'teamBoxScores': 0}\n",
            "triplesPitching {'playerBoxScores': 4, 'teamBoxScores': 0}\n",
            "doublesPitching {'playerBoxScores': 7, 'teamBoxScores': 0}\n",
            "runsPitching {'playerBoxScores': 13, 'teamBoxScores': 25}\n",
            "groundOutsPitching {'playerBoxScores': 17, 'teamBoxScores': 0}\n",
            "stolenBases {'playerBoxScores': 4, 'teamBoxScores': 6}\n",
            "caughtStealing {'playerBoxScores': 2, 'teamBoxScores': 3}\n",
            "atBats {'playerBoxScores': 8, 'teamBoxScores': 49}\n",
            "hitByPitch {'playerBoxScores': 3, 'teamBoxScores': 6}\n",
            "hits {'playerBoxScores': 6, 'teamBoxScores': 27}\n",
            "intentionalWalks {'playerBoxScores': 3, 'teamBoxScores': 3}\n",
            "baseOnBalls {'playerBoxScores': 5, 'teamBoxScores': 14}\n",
            "strikeOuts {'playerBoxScores': 5, 'teamBoxScores': 26}\n",
            "homeRuns {'playerBoxScores': 3, 'teamBoxScores': 8}\n",
            "triples {'playerBoxScores': 2, 'teamBoxScores': 5}\n",
            "doubles {'playerBoxScores': 4, 'teamBoxScores': 11}\n",
            "runsScored {'playerBoxScores': 5, 'teamBoxScores': 25, 'standings': 894}\n",
            "groundOuts {'playerBoxScores': 7, 'teamBoxScores': 24}\n",
            "flyOuts {'playerBoxScores': 5, 'teamBoxScores': 16}\n",
            "groundIntoDoublePlay {'playerBoxScores': 3, 'teamBoxScores': 4}\n",
            "groundIntoTriplePlay {'playerBoxScores': 1, 'teamBoxScores': 0}\n",
            "plateAppearances {'playerBoxScores': 9, 'teamBoxScores': 58}\n",
            "airOutsPitching {'playerBoxScores': 16, 'teamBoxScores': 0}\n",
            "totalBases {'playerBoxScores': 15, 'teamBoxScores': 50}\n",
            "pickoffs {'playerBoxScores': 2, 'teamBoxScores': 3}\n",
            "catchersInterference {'playerBoxScores': 2, 'teamBoxScores': 2}\n",
            "sacFlies {'playerBoxScores': 2, 'teamBoxScores': 4}\n",
            "sacBunts {'playerBoxScores': 2, 'teamBoxScores': 3}\n",
            "leftOnBase {'playerBoxScores': 11, 'teamBoxScores': 39}\n",
            "rbi {'events': 4, 'playerBoxScores': 10, 'teamBoxScores': 24}\n",
            "description {'transactions': 32608, 'events': 373848}\n"
          ],
          "name": "stdout"
        }
      ]
    },
    {
      "cell_type": "markdown",
      "metadata": {
        "id": "62anMpE_vCk1"
      },
      "source": [
        "# Topics: IDs and Dates Columns \n",
        "predicate fields"
      ]
    },
    {
      "cell_type": "code",
      "metadata": {
        "colab": {
          "base_uri": "https://localhost:8080/"
        },
        "id": "PQgsAKLhvAxr",
        "outputId": "f80f95d6-8b25-47fb-fc8c-509b344c9162"
      },
      "source": [
        "id_columns = list (columns_md['column'][columns_md['role']=='id'])\n",
        "print('id columns:', id_columns)\n",
        "date_columns = list (columns_md['column'][columns_md['role']=='date'])\n",
        "print ('date columns:', date_columns)\n",
        "id_columns_topics, date_columns_topics = {}, {}\n",
        "for id_column in id_columns:\n",
        "  id_column_topics = list(columns_md['topic'][columns_md['column']==id_column])\n",
        "  #print (id_column, id_column_topics)\n",
        "  if len (id_column_topics)>1:\n",
        "    id_columns_topics [id_column] = id_column_topics\n",
        "\n",
        "for date_column in date_columns:\n",
        "  date_column_topics = list(columns_md['topic'][columns_md['column']==date_column])\n",
        "  #print (id_column, id_column_topics)\n",
        "  if len (date_column_topics)>1:\n",
        "    date_columns_topics [date_column] = date_column_topics\n",
        "\n",
        "\n",
        "print ('id columns in more than one topic')\n",
        "for k,v in id_columns_topics.items(): print (k,v)\n",
        "print ('date columns in more than one topic')\n",
        "for k,v in date_columns_topics.items(): print (k,v)"
      ],
      "execution_count": 9,
      "outputs": [
        {
          "output_type": "stream",
          "text": [
            "id columns: ['playerId', 'fromTeamId', 'hitterTeamId', 'awayId', 'pitcherTeamId', 'playerId', 'homeId', 'eventId', 'teamId', 'awardId', 'transactionId', 'teamId', 'playId', 'playerId', 'awardPlayerTeamId', 'pitcherId', 'hitterId', 'playerId', 'toTeamId', 'teamId', 'divisionId', 'playerId', 'teamId', 'teamId']\n",
            "date columns: ['gameDate', 'resumeDate', 'gameDate', 'gameDate', 'date', 'awardDate', 'effectiveDate', 'gameDate', 'date', 'gameDate', 'resolutionDate', 'date', 'gameDate']\n",
            "id columns in more than one topic\n",
            "playerId ['transactions', 'playerTwitterFollowers', 'awards', 'playerBoxScores', 'rosters']\n",
            "teamId ['teamTwitterFollowers', 'playerBoxScores', 'standings', 'teamBoxScores', 'rosters']\n",
            "date columns in more than one topic\n",
            "gameDate ['games', 'rosters', 'standings', 'teamBoxScores', 'playerBoxScores', 'events']\n",
            "date ['playerTwitterFollowers', 'teamTwitterFollowers', 'transactions']\n"
          ],
          "name": "stdout"
        }
      ]
    },
    {
      "cell_type": "markdown",
      "metadata": {
        "id": "EUMiV80dNCqW"
      },
      "source": [
        "## Topics: Date columns"
      ]
    },
    {
      "cell_type": "code",
      "metadata": {
        "colab": {
          "base_uri": "https://localhost:8080/"
        },
        "id": "XOVgqgHvzash",
        "outputId": "c7f5b9a3-0710-460e-b724-e24c8338606e"
      },
      "source": [
        "date_columns = list (columns_md['column'][columns_md['role']=='date'])\n",
        "print ('date_columns:', date_columns)\n",
        "playerId_topics = list (columns_md['topic'][columns_md['column']=='playerId'])\n",
        "print('playerId_topics:', playerId_topics)\n",
        "# playerId_date_topics \n",
        "topics = list(set(columns_md['topic']))\n",
        "print ('topics:', topics)\n",
        "playerId_date_topics = {}\n",
        "for topic in topics:\n",
        "  topic_columns = list(columns_md['column'][columns_md['topic']==topic])\n",
        "  print(topic, topic_columns)\n",
        "  topic_date_columns = [c for c in topic_columns if c in date_columns]\n",
        "  print (topic_date_columns)\n",
        "  print (30*'-')"
      ],
      "execution_count": 7,
      "outputs": [
        {
          "output_type": "stream",
          "text": [
            "date_columns: ['gameDate', 'resumeDate', 'gameDate', 'gameDate', 'date', 'awardDate', 'effectiveDate', 'gameDate', 'date', 'gameDate', 'resolutionDate', 'date', 'gameDate']\n",
            "playerId_topics: ['transactions', 'playerTwitterFollowers', 'awards', 'playerBoxScores', 'rosters']\n",
            "topics: ['teamTwitterFollowers', 'awards', 'games', 'rosters', 'playerBoxScores', 'standings', 'df3', 'columns_classification', 'teamBoxScores', 'events', 'transactions', 'playerTwitterFollowers']\n",
            "teamTwitterFollowers ['numberOfFollowers', 'twitterHandle', 'teamId', 'date']\n",
            "['date']\n",
            "------------------------------\n",
            "awards ['awardSeason', 'awardId', 'playerId', 'awardPlayerTeamId', 'awardDate']\n",
            "['awardDate']\n",
            "------------------------------\n",
            "games ['gameTimeUTC', 'gameType', 'gamePk', 'scheduledInnings', 'homeScore', 'homeWinner', 'homeWinPct', 'homeLosses', 'homeWins', 'homeAbbrev', 'gamesInSeries', 'dayNight', 'doubleHeader', 'gameNumber', 'isTie', 'detailedGameState', 'codedGameState', 'resumedFrom', 'season', 'awayAbbrev', 'awayWins', 'awayLosses', 'awayWinPct', 'awayScore', 'awayWinner', 'awayId', 'homeId', 'seriesDescription', 'gameDate', 'resumeDate']\n",
            "['gameDate', 'resumeDate']\n",
            "------------------------------\n",
            "rosters ['status', 'statusCode', 'playerId', 'teamId', 'gameDate']\n",
            "['gameDate']\n",
            "------------------------------\n",
            "playerBoxScores ['gameTimeUTC', 'gamePk', 'home', 'jerseyNum', 'positionType', 'positionCode', 'strikes', 'pitchesThrown', 'outsPitching', 'battersFaced', 'earnedRuns', 'saveOpportunities', 'inningsPitched', 'stolenBasesPitching', 'caughtStealingPitching', 'atBatsPitching', 'hitByPitchPitching', 'hitsPitching', 'intentionalWalksPitching', 'baseOnBallsPitching', 'strikeOutsPitching', 'homeRunsPitching', 'balls', 'hitBatsmen', 'battingOrder', 'balks', 'errors', 'putOuts', 'assists', 'blownSaves', 'holds', 'saves', 'sacFliesPitching', 'sacBuntsPitching', 'catchersInterferencePitching', 'inheritedRunnersScored', 'inheritedRunners', 'gamesFinishedPitching', 'rbiPitching', 'pickoffsPitching', 'wildPitches', 'triplesPitching', 'doublesPitching', 'runsPitching', 'groundOutsPitching', 'stolenBases', 'caughtStealing', 'atBats', 'hitByPitch', 'hits', 'intentionalWalks', 'baseOnBalls', 'strikeOuts', 'homeRuns', 'triples', 'doubles', 'runsScored', 'groundOuts', 'flyOuts', 'gamesPlayedBatting', 'groundIntoDoublePlay', 'groundIntoTriplePlay', 'plateAppearances', 'gamesStartedPitching', 'airOutsPitching', 'flyOutsPitching', 'lossesPitching', 'winsPitching', 'shutoutsPitching', 'completeGamesPitching', 'gamesPlayedPitching', 'totalBases', 'pickoffs', 'catchersInterference', 'sacFlies', 'sacBunts', 'leftOnBase', 'rbi', 'chances', 'teamId', 'playerId', 'gameDate']\n",
            "['gameDate']\n",
            "------------------------------\n",
            "standings ['dayWins', 'divisionLeader', 'wildCardLeader', 'eliminationNumber', 'wildCardEliminationNumber', 'homeWins', 'homeLosses', 'awayWins', 'lastTenWins', 'lastTenLosses', 'extraInningWins', 'extraInningLosses', 'oneRunWins', 'oneRunLosses', 'dayLosses', 'runsScored', 'nightWins', 'nightLosses', 'grassWins', 'grassLosses', 'turfWins', 'turfLosses', 'divWins', 'divLosses', 'alWins', 'alLosses', 'nlWins', 'nlLosses', 'xWinLossPct', 'divisionChamp', 'awayLosses', 'runsAllowed', 'wildCardRank', 'season', 'streakCode', 'pct', 'leagueRank', 'divisionRank', 'leagueGamesBack', 'sportGamesBack', 'divisionGamesBack', 'wins', 'losses', 'teamId', 'divisionId', 'gameDate']\n",
            "['gameDate']\n",
            "------------------------------\n",
            "df3 ['c', 'b', 'a']\n",
            "[]\n",
            "------------------------------\n",
            "columns_classification ['values_count', 'inferred_type', 'source_type', 'role', 'topic', 'column']\n",
            "[]\n",
            "------------------------------\n",
            "teamBoxScores ['gameTimeUTC', 'balks', 'sacFlies', 'triplesPitching', 'doublesPitching', 'runsPitching', 'groundOutsPitching', 'airOutsPitching', 'pickoffs', 'catchersInterference', 'sacBunts', 'atBats', 'leftOnBase', 'rbi', 'totalBases', 'plateAppearances', 'groundIntoTriplePlay', 'groundIntoDoublePlay', 'stolenBases', 'homeRunsPitching', 'strikeOutsPitching', 'baseOnBallsPitching', 'intentionalWalksPitching', 'inheritedRunners', 'rbiPitching', 'pickoffsPitching', 'wildPitches', 'hitBatsmen', 'outsPitching', 'battersFaced', 'earnedRuns', 'inningsPitched', 'stolenBasesPitching', 'caughtStealingPitching', 'atBatsPitching', 'hitByPitchPitching', 'hitsPitching', 'caughtStealing', 'hitByPitch', 'catchersInterferencePitching', 'hits', 'intentionalWalks', 'baseOnBalls', 'strikeOuts', 'homeRuns', 'triples', 'doubles', 'runsScored', 'groundOuts', 'flyOuts', 'gamePk', 'home', 'inheritedRunnersScored', 'sacBuntsPitching', 'sacFliesPitching', 'teamId', 'gameDate']\n",
            "['gameDate']\n",
            "------------------------------\n",
            "events ['gameTimeUTC', 'type', 'y0', 'x0', 'y', 'x', 'vZ0', 'vY0', 'vX0', 'pfxZ', 'pfxX', 'aZ', 'aY', 'aX', 'pZ', 'pX', 'spinDirection', 'z0', 'zone', 'halfInning', 'gameType', 'spinRate', 'breakY', 'breakLength', 'strikes', 'balls', 'pitchNumber', 'batSide', 'pitcherHand', 'isStarter', 'hitterTeam', 'pitcherTeam', 'isPitcherHome', 'hasOut', 'atBatEvent', 'atBatIndex', 'menOnBase', 'awayScore', 'homeScore', 'isGB', 'isLD', 'isFB', 'outs', 'breakAngle', 'nastyFactor', 'endSpeed', 'startSpeed', 'isPaOver', 'inPlay', 'call', 'isPU', 'pitchType', 'rbi', 'event', 'totalDistance', 'launchAngle', 'launchSpeed', 'season', 'inning', 'gamePk', 'hitterTeamId', 'pitcherTeamId', 'eventId', 'playId', 'pitcherId', 'hitterId', 'description', 'atBatDesc', 'gameDate']\n",
            "['gameDate']\n",
            "------------------------------\n",
            "transactions ['typeCode', 'playerId', 'fromTeamId', 'transactionId', 'toTeamId', 'typeDesc', 'description', 'effectiveDate', 'resolutionDate', 'date']\n",
            "['effectiveDate', 'resolutionDate', 'date']\n",
            "------------------------------\n",
            "playerTwitterFollowers ['twitterHandle', 'numberOfFollowers', 'playerId', 'date']\n",
            "['date']\n",
            "------------------------------\n"
          ],
          "name": "stdout"
        }
      ]
    },
    {
      "cell_type": "markdown",
      "metadata": {
        "id": "OK4PWbFu7qWX"
      },
      "source": [
        "#Build Topics and Target Databases"
      ]
    },
    {
      "cell_type": "code",
      "metadata": {
        "id": "dEbCGho87uJe"
      },
      "source": [
        "data_files = os.listdir(data_results_path)\n",
        "data_files = [tf for tf in data_files if tf!='columns_classification.csv']\n",
        "for data_file in data_files:\n",
        "  print ('data file:', data_file)\n",
        "  data_path = os.path.join(data_results_path, '{t}'.format(t=data_file))\n",
        "  data_file_db_name = data_file.replace ('.csv', '')\n",
        "  print ('data_file_db_name:', data_file_db_name)\n",
        "  pd.read_csv(data_path).to_sql('{df}'.format(df=data_file_db_name), conn)"
      ],
      "execution_count": null,
      "outputs": []
    },
    {
      "cell_type": "markdown",
      "metadata": {
        "id": "F2rgJoY-LRQH"
      },
      "source": [
        "\n",
        "#Featue Join Plan\n",
        "\n",
        "Goal: Join data per feature to target on playerIds and dates\n",
        "pId_df = playerId_dataset\n",
        "d_df = dates_dataset\n",
        "features = columns in piD_df\n",
        "each piD_df may include more than one date columns\n",
        "dcols = date columns in piD_df (dcol 1..n dcols; max(n) appears 2-3)\n",
        "for each dcol dcols:\n",
        "\n",
        "    feature_df = piD_df (feature, dcol, playerID)\n",
        "    join feature_df to target_df on:\n",
        "    feature_df.playerID = target_df.playerID\n",
        "    feature_df.dcol = target_df.date\n",
        "\n"
      ]
    },
    {
      "cell_type": "markdown",
      "metadata": {
        "id": "ukWjqIuDPENb"
      },
      "source": [
        "#Query Predictors"
      ]
    },
    {
      "cell_type": "code",
      "metadata": {
        "colab": {
          "base_uri": "https://localhost:8080/",
          "height": 1000
        },
        "id": "rUG8PJygPFnO",
        "outputId": "206b789b-871f-4035-ed8c-a01809a2ddd8"
      },
      "source": [
        "for predictor in predictors:\n",
        "  print ('predictor:', predictor)\n",
        "  topic = columns_md['topic'][columns_md['column']==predictor].values[0]\n",
        "  print (predictor, topic)\n",
        "  topic_path = os.path.join(data_results_path, '{t}.csv'.format(t=topic))\n",
        "  topic_df = pd.read_csv(topic_path)\n",
        "  print (topic_df.head())\n",
        "  topic_columns = topic_df.columns\n",
        "  date_columns = [t for t in topic_columns if t in date_columns]\n",
        "  print ('date_columns:', date_columns)\n",
        "  if ((len(date_columns)>0) & ('playerId' in topic_columns)):\n",
        "    for date_column in date_columns:\n",
        "      query = \"\"\"SELECT {to}.{p}, {ta}.target1 \n",
        "                FROM {to} JOIN {ta} \n",
        "                on to.playerId  = ta.playerId\"\"\"\\\n",
        "                .format(to=topic, ta=target_df, p=predictor)\n",
        "      print (query)\n",
        "      query_df = pd.read_sql(query, conn)\n",
        "      print (type (query_df))\n",
        "      print(query_df.head())\n",
        "      print(query_df.info())\n",
        "      "
      ],
      "execution_count": null,
      "outputs": [
        {
          "output_type": "stream",
          "text": [
            "predictor: gamePk\n",
            "gamePk games\n",
            "   gamePk gameType  season  ... awayWinPct awayWinner awayScore\n",
            "0  533782        E    2018  ...        0.0        0.0       2.0\n",
            "1  534461        E    2018  ...        0.0        0.0       1.0\n",
            "2  545334        E    2018  ...        0.0        0.0       0.0\n",
            "3  547295        E    2018  ...        0.0        0.0       2.0\n",
            "4  533784        E    2018  ...        0.0        0.0       1.0\n",
            "\n",
            "[5 rows x 32 columns]\n",
            "date_columns: ['gameDate', 'resumeDate']\n",
            "predictor: season\n",
            "season events\n",
            "   gamePk    gameDate           gameTimeUTC  season  ...  y0  z0    type  zone\n",
            "0  529409  2018-03-29  2018-03-30T02:10:00Z    2018  ... NaN NaN  action   NaN\n",
            "1  529416  2018-03-29  2018-03-29T20:10:00Z    2018  ... NaN NaN  action   NaN\n",
            "2  529416  2018-03-29  2018-03-29T20:10:00Z    2018  ... NaN NaN  action   NaN\n",
            "3  529411  2018-03-29  2018-03-29T19:35:00Z    2018  ... NaN NaN  action   NaN\n",
            "4  529406  2018-03-29  2018-03-29T20:00:00Z    2018  ... NaN NaN  action   NaN\n",
            "\n",
            "[5 rows x 71 columns]\n",
            "date_columns: ['gameDate']\n",
            "predictor: divWins\n",
            "divWins standings\n",
            "   season    gameDate  divisionId  ...  nlWins nlLosses xWinLossPct\n",
            "0    2018  2018-03-29         205  ...     0.0      0.0         0.0\n",
            "1    2018  2018-03-29         204  ...     0.0      1.0         0.0\n",
            "2    2018  2018-03-29         204  ...     1.0      0.0         1.0\n",
            "3    2018  2018-03-29         200  ...     0.0      0.0         0.0\n",
            "4    2018  2018-03-29         204  ...     0.0      0.0         0.0\n",
            "\n",
            "[5 rows x 47 columns]\n",
            "date_columns: ['gameDate']\n",
            "predictor: divLosses\n",
            "divLosses standings\n",
            "   season    gameDate  divisionId  ...  nlWins nlLosses xWinLossPct\n",
            "0    2018  2018-03-29         205  ...     0.0      0.0         0.0\n",
            "1    2018  2018-03-29         204  ...     0.0      1.0         0.0\n",
            "2    2018  2018-03-29         204  ...     1.0      0.0         1.0\n",
            "3    2018  2018-03-29         200  ...     0.0      0.0         0.0\n",
            "4    2018  2018-03-29         204  ...     0.0      0.0         0.0\n",
            "\n",
            "[5 rows x 47 columns]\n",
            "date_columns: ['gameDate']\n",
            "predictor: alWins\n",
            "alWins standings\n",
            "   season    gameDate  divisionId  ...  nlWins nlLosses xWinLossPct\n",
            "0    2018  2018-03-29         205  ...     0.0      0.0         0.0\n",
            "1    2018  2018-03-29         204  ...     0.0      1.0         0.0\n",
            "2    2018  2018-03-29         204  ...     1.0      0.0         1.0\n",
            "3    2018  2018-03-29         200  ...     0.0      0.0         0.0\n",
            "4    2018  2018-03-29         204  ...     0.0      0.0         0.0\n",
            "\n",
            "[5 rows x 47 columns]\n",
            "date_columns: ['gameDate']\n",
            "predictor: alLosses\n",
            "alLosses standings\n",
            "   season    gameDate  divisionId  ...  nlWins nlLosses xWinLossPct\n",
            "0    2018  2018-03-29         205  ...     0.0      0.0         0.0\n",
            "1    2018  2018-03-29         204  ...     0.0      1.0         0.0\n",
            "2    2018  2018-03-29         204  ...     1.0      0.0         1.0\n",
            "3    2018  2018-03-29         200  ...     0.0      0.0         0.0\n",
            "4    2018  2018-03-29         204  ...     0.0      0.0         0.0\n",
            "\n",
            "[5 rows x 47 columns]\n",
            "date_columns: ['gameDate']\n",
            "predictor: nlWins\n",
            "nlWins standings\n",
            "   season    gameDate  divisionId  ...  nlWins nlLosses xWinLossPct\n",
            "0    2018  2018-03-29         205  ...     0.0      0.0         0.0\n",
            "1    2018  2018-03-29         204  ...     0.0      1.0         0.0\n",
            "2    2018  2018-03-29         204  ...     1.0      0.0         1.0\n",
            "3    2018  2018-03-29         200  ...     0.0      0.0         0.0\n",
            "4    2018  2018-03-29         204  ...     0.0      0.0         0.0\n",
            "\n",
            "[5 rows x 47 columns]\n",
            "date_columns: ['gameDate']\n",
            "predictor: nlLosses\n",
            "nlLosses standings\n",
            "   season    gameDate  divisionId  ...  nlWins nlLosses xWinLossPct\n",
            "0    2018  2018-03-29         205  ...     0.0      0.0         0.0\n",
            "1    2018  2018-03-29         204  ...     0.0      1.0         0.0\n",
            "2    2018  2018-03-29         204  ...     1.0      0.0         1.0\n",
            "3    2018  2018-03-29         200  ...     0.0      0.0         0.0\n",
            "4    2018  2018-03-29         204  ...     0.0      0.0         0.0\n",
            "\n",
            "[5 rows x 47 columns]\n",
            "date_columns: ['gameDate']\n",
            "predictor: xWinLossPct\n",
            "xWinLossPct standings\n",
            "   season    gameDate  divisionId  ...  nlWins nlLosses xWinLossPct\n",
            "0    2018  2018-03-29         205  ...     0.0      0.0         0.0\n",
            "1    2018  2018-03-29         204  ...     0.0      1.0         0.0\n",
            "2    2018  2018-03-29         204  ...     1.0      0.0         1.0\n",
            "3    2018  2018-03-29         200  ...     0.0      0.0         0.0\n",
            "4    2018  2018-03-29         204  ...     0.0      0.0         0.0\n",
            "\n",
            "[5 rows x 47 columns]\n",
            "date_columns: ['gameDate']\n",
            "predictor: awardSeason\n",
            "awardSeason awards\n",
            "   awardId  ... awardPlayerTeamId\n",
            "0  VWLCPOY  ...             699.0\n",
            "1   VWLPOY  ...             699.0\n",
            "2   VWLMOY  ...             695.0\n",
            "3  VWLRLOY  ...             694.0\n",
            "4  VWLOPOY  ...             699.0\n",
            "\n",
            "[5 rows x 7 columns]\n",
            "date_columns: []\n",
            "predictor: gamePk\n",
            "gamePk games\n",
            "   gamePk gameType  season  ... awayWinPct awayWinner awayScore\n",
            "0  533782        E    2018  ...        0.0        0.0       2.0\n",
            "1  534461        E    2018  ...        0.0        0.0       1.0\n",
            "2  545334        E    2018  ...        0.0        0.0       0.0\n",
            "3  547295        E    2018  ...        0.0        0.0       2.0\n",
            "4  533784        E    2018  ...        0.0        0.0       1.0\n",
            "\n",
            "[5 rows x 32 columns]\n",
            "date_columns: []\n",
            "predictor: gameType\n",
            "gameType events\n",
            "   gamePk    gameDate           gameTimeUTC  season  ...  y0  z0    type  zone\n",
            "0  529409  2018-03-29  2018-03-30T02:10:00Z    2018  ... NaN NaN  action   NaN\n",
            "1  529416  2018-03-29  2018-03-29T20:10:00Z    2018  ... NaN NaN  action   NaN\n",
            "2  529416  2018-03-29  2018-03-29T20:10:00Z    2018  ... NaN NaN  action   NaN\n",
            "3  529411  2018-03-29  2018-03-29T19:35:00Z    2018  ... NaN NaN  action   NaN\n",
            "4  529406  2018-03-29  2018-03-29T20:00:00Z    2018  ... NaN NaN  action   NaN\n",
            "\n",
            "[5 rows x 71 columns]\n",
            "date_columns: []\n",
            "predictor: turfWins\n",
            "turfWins standings\n",
            "   season    gameDate  divisionId  ...  nlWins nlLosses xWinLossPct\n",
            "0    2018  2018-03-29         205  ...     0.0      0.0         0.0\n",
            "1    2018  2018-03-29         204  ...     0.0      1.0         0.0\n",
            "2    2018  2018-03-29         204  ...     1.0      0.0         1.0\n",
            "3    2018  2018-03-29         200  ...     0.0      0.0         0.0\n",
            "4    2018  2018-03-29         204  ...     0.0      0.0         0.0\n",
            "\n",
            "[5 rows x 47 columns]\n",
            "date_columns: []\n",
            "predictor: inning\n",
            "inning events\n",
            "   gamePk    gameDate           gameTimeUTC  season  ...  y0  z0    type  zone\n",
            "0  529409  2018-03-29  2018-03-30T02:10:00Z    2018  ... NaN NaN  action   NaN\n",
            "1  529416  2018-03-29  2018-03-29T20:10:00Z    2018  ... NaN NaN  action   NaN\n",
            "2  529416  2018-03-29  2018-03-29T20:10:00Z    2018  ... NaN NaN  action   NaN\n",
            "3  529411  2018-03-29  2018-03-29T19:35:00Z    2018  ... NaN NaN  action   NaN\n",
            "4  529406  2018-03-29  2018-03-29T20:00:00Z    2018  ... NaN NaN  action   NaN\n",
            "\n",
            "[5 rows x 71 columns]\n",
            "date_columns: []\n",
            "predictor: halfInning\n",
            "halfInning events\n"
          ],
          "name": "stdout"
        },
        {
          "output_type": "error",
          "ename": "KeyboardInterrupt",
          "evalue": "ignored",
          "traceback": [
            "\u001b[0;31m---------------------------------------------------------------------------\u001b[0m",
            "\u001b[0;31mKeyboardInterrupt\u001b[0m                         Traceback (most recent call last)",
            "\u001b[0;32m<ipython-input-23-68b98f139450>\u001b[0m in \u001b[0;36m<module>\u001b[0;34m()\u001b[0m\n\u001b[1;32m      4\u001b[0m   \u001b[0mprint\u001b[0m \u001b[0;34m(\u001b[0m\u001b[0mpredictor\u001b[0m\u001b[0;34m,\u001b[0m \u001b[0mtopic\u001b[0m\u001b[0;34m)\u001b[0m\u001b[0;34m\u001b[0m\u001b[0;34m\u001b[0m\u001b[0m\n\u001b[1;32m      5\u001b[0m   \u001b[0mtopic_path\u001b[0m \u001b[0;34m=\u001b[0m \u001b[0mos\u001b[0m\u001b[0;34m.\u001b[0m\u001b[0mpath\u001b[0m\u001b[0;34m.\u001b[0m\u001b[0mjoin\u001b[0m\u001b[0;34m(\u001b[0m\u001b[0mdata_results_path\u001b[0m\u001b[0;34m,\u001b[0m \u001b[0;34m'{t}.csv'\u001b[0m\u001b[0;34m.\u001b[0m\u001b[0mformat\u001b[0m\u001b[0;34m(\u001b[0m\u001b[0mt\u001b[0m\u001b[0;34m=\u001b[0m\u001b[0mtopic\u001b[0m\u001b[0;34m)\u001b[0m\u001b[0;34m)\u001b[0m\u001b[0;34m\u001b[0m\u001b[0;34m\u001b[0m\u001b[0m\n\u001b[0;32m----> 6\u001b[0;31m   \u001b[0mtopic_df\u001b[0m \u001b[0;34m=\u001b[0m \u001b[0mpd\u001b[0m\u001b[0;34m.\u001b[0m\u001b[0mread_csv\u001b[0m\u001b[0;34m(\u001b[0m\u001b[0mtopic_path\u001b[0m\u001b[0;34m)\u001b[0m\u001b[0;34m\u001b[0m\u001b[0;34m\u001b[0m\u001b[0m\n\u001b[0m\u001b[1;32m      7\u001b[0m   \u001b[0mprint\u001b[0m \u001b[0;34m(\u001b[0m\u001b[0mtopic_df\u001b[0m\u001b[0;34m.\u001b[0m\u001b[0mhead\u001b[0m\u001b[0;34m(\u001b[0m\u001b[0;34m)\u001b[0m\u001b[0;34m)\u001b[0m\u001b[0;34m\u001b[0m\u001b[0;34m\u001b[0m\u001b[0m\n\u001b[1;32m      8\u001b[0m   \u001b[0mtopic_columns\u001b[0m \u001b[0;34m=\u001b[0m \u001b[0mtopic_df\u001b[0m\u001b[0;34m.\u001b[0m\u001b[0mcolumns\u001b[0m\u001b[0;34m\u001b[0m\u001b[0;34m\u001b[0m\u001b[0m\n",
            "\u001b[0;32m/usr/local/lib/python3.7/dist-packages/pandas/io/parsers.py\u001b[0m in \u001b[0;36mread_csv\u001b[0;34m(filepath_or_buffer, sep, delimiter, header, names, index_col, usecols, squeeze, prefix, mangle_dupe_cols, dtype, engine, converters, true_values, false_values, skipinitialspace, skiprows, skipfooter, nrows, na_values, keep_default_na, na_filter, verbose, skip_blank_lines, parse_dates, infer_datetime_format, keep_date_col, date_parser, dayfirst, cache_dates, iterator, chunksize, compression, thousands, decimal, lineterminator, quotechar, quoting, doublequote, escapechar, comment, encoding, dialect, error_bad_lines, warn_bad_lines, delim_whitespace, low_memory, memory_map, float_precision)\u001b[0m\n\u001b[1;32m    686\u001b[0m     )\n\u001b[1;32m    687\u001b[0m \u001b[0;34m\u001b[0m\u001b[0m\n\u001b[0;32m--> 688\u001b[0;31m     \u001b[0;32mreturn\u001b[0m \u001b[0m_read\u001b[0m\u001b[0;34m(\u001b[0m\u001b[0mfilepath_or_buffer\u001b[0m\u001b[0;34m,\u001b[0m \u001b[0mkwds\u001b[0m\u001b[0;34m)\u001b[0m\u001b[0;34m\u001b[0m\u001b[0;34m\u001b[0m\u001b[0m\n\u001b[0m\u001b[1;32m    689\u001b[0m \u001b[0;34m\u001b[0m\u001b[0m\n\u001b[1;32m    690\u001b[0m \u001b[0;34m\u001b[0m\u001b[0m\n",
            "\u001b[0;32m/usr/local/lib/python3.7/dist-packages/pandas/io/parsers.py\u001b[0m in \u001b[0;36m_read\u001b[0;34m(filepath_or_buffer, kwds)\u001b[0m\n\u001b[1;32m    458\u001b[0m \u001b[0;34m\u001b[0m\u001b[0m\n\u001b[1;32m    459\u001b[0m     \u001b[0;32mtry\u001b[0m\u001b[0;34m:\u001b[0m\u001b[0;34m\u001b[0m\u001b[0;34m\u001b[0m\u001b[0m\n\u001b[0;32m--> 460\u001b[0;31m         \u001b[0mdata\u001b[0m \u001b[0;34m=\u001b[0m \u001b[0mparser\u001b[0m\u001b[0;34m.\u001b[0m\u001b[0mread\u001b[0m\u001b[0;34m(\u001b[0m\u001b[0mnrows\u001b[0m\u001b[0;34m)\u001b[0m\u001b[0;34m\u001b[0m\u001b[0;34m\u001b[0m\u001b[0m\n\u001b[0m\u001b[1;32m    461\u001b[0m     \u001b[0;32mfinally\u001b[0m\u001b[0;34m:\u001b[0m\u001b[0;34m\u001b[0m\u001b[0;34m\u001b[0m\u001b[0m\n\u001b[1;32m    462\u001b[0m         \u001b[0mparser\u001b[0m\u001b[0;34m.\u001b[0m\u001b[0mclose\u001b[0m\u001b[0;34m(\u001b[0m\u001b[0;34m)\u001b[0m\u001b[0;34m\u001b[0m\u001b[0;34m\u001b[0m\u001b[0m\n",
            "\u001b[0;32m/usr/local/lib/python3.7/dist-packages/pandas/io/parsers.py\u001b[0m in \u001b[0;36mread\u001b[0;34m(self, nrows)\u001b[0m\n\u001b[1;32m   1196\u001b[0m     \u001b[0;32mdef\u001b[0m \u001b[0mread\u001b[0m\u001b[0;34m(\u001b[0m\u001b[0mself\u001b[0m\u001b[0;34m,\u001b[0m \u001b[0mnrows\u001b[0m\u001b[0;34m=\u001b[0m\u001b[0;32mNone\u001b[0m\u001b[0;34m)\u001b[0m\u001b[0;34m:\u001b[0m\u001b[0;34m\u001b[0m\u001b[0;34m\u001b[0m\u001b[0m\n\u001b[1;32m   1197\u001b[0m         \u001b[0mnrows\u001b[0m \u001b[0;34m=\u001b[0m \u001b[0m_validate_integer\u001b[0m\u001b[0;34m(\u001b[0m\u001b[0;34m\"nrows\"\u001b[0m\u001b[0;34m,\u001b[0m \u001b[0mnrows\u001b[0m\u001b[0;34m)\u001b[0m\u001b[0;34m\u001b[0m\u001b[0;34m\u001b[0m\u001b[0m\n\u001b[0;32m-> 1198\u001b[0;31m         \u001b[0mret\u001b[0m \u001b[0;34m=\u001b[0m \u001b[0mself\u001b[0m\u001b[0;34m.\u001b[0m\u001b[0m_engine\u001b[0m\u001b[0;34m.\u001b[0m\u001b[0mread\u001b[0m\u001b[0;34m(\u001b[0m\u001b[0mnrows\u001b[0m\u001b[0;34m)\u001b[0m\u001b[0;34m\u001b[0m\u001b[0;34m\u001b[0m\u001b[0m\n\u001b[0m\u001b[1;32m   1199\u001b[0m \u001b[0;34m\u001b[0m\u001b[0m\n\u001b[1;32m   1200\u001b[0m         \u001b[0;31m# May alter columns / col_dict\u001b[0m\u001b[0;34m\u001b[0m\u001b[0;34m\u001b[0m\u001b[0;34m\u001b[0m\u001b[0m\n",
            "\u001b[0;32m/usr/local/lib/python3.7/dist-packages/pandas/io/parsers.py\u001b[0m in \u001b[0;36mread\u001b[0;34m(self, nrows)\u001b[0m\n\u001b[1;32m   2155\u001b[0m     \u001b[0;32mdef\u001b[0m \u001b[0mread\u001b[0m\u001b[0;34m(\u001b[0m\u001b[0mself\u001b[0m\u001b[0;34m,\u001b[0m \u001b[0mnrows\u001b[0m\u001b[0;34m=\u001b[0m\u001b[0;32mNone\u001b[0m\u001b[0;34m)\u001b[0m\u001b[0;34m:\u001b[0m\u001b[0;34m\u001b[0m\u001b[0;34m\u001b[0m\u001b[0m\n\u001b[1;32m   2156\u001b[0m         \u001b[0;32mtry\u001b[0m\u001b[0;34m:\u001b[0m\u001b[0;34m\u001b[0m\u001b[0;34m\u001b[0m\u001b[0m\n\u001b[0;32m-> 2157\u001b[0;31m             \u001b[0mdata\u001b[0m \u001b[0;34m=\u001b[0m \u001b[0mself\u001b[0m\u001b[0;34m.\u001b[0m\u001b[0m_reader\u001b[0m\u001b[0;34m.\u001b[0m\u001b[0mread\u001b[0m\u001b[0;34m(\u001b[0m\u001b[0mnrows\u001b[0m\u001b[0;34m)\u001b[0m\u001b[0;34m\u001b[0m\u001b[0;34m\u001b[0m\u001b[0m\n\u001b[0m\u001b[1;32m   2158\u001b[0m         \u001b[0;32mexcept\u001b[0m \u001b[0mStopIteration\u001b[0m\u001b[0;34m:\u001b[0m\u001b[0;34m\u001b[0m\u001b[0;34m\u001b[0m\u001b[0m\n\u001b[1;32m   2159\u001b[0m             \u001b[0;32mif\u001b[0m \u001b[0mself\u001b[0m\u001b[0;34m.\u001b[0m\u001b[0m_first_chunk\u001b[0m\u001b[0;34m:\u001b[0m\u001b[0;34m\u001b[0m\u001b[0;34m\u001b[0m\u001b[0m\n",
            "\u001b[0;32mpandas/_libs/parsers.pyx\u001b[0m in \u001b[0;36mpandas._libs.parsers.TextReader.read\u001b[0;34m()\u001b[0m\n",
            "\u001b[0;32mpandas/_libs/parsers.pyx\u001b[0m in \u001b[0;36mpandas._libs.parsers.TextReader._read_low_memory\u001b[0;34m()\u001b[0m\n",
            "\u001b[0;32mpandas/_libs/parsers.pyx\u001b[0m in \u001b[0;36mpandas._libs.parsers.TextReader._read_rows\u001b[0;34m()\u001b[0m\n",
            "\u001b[0;32mpandas/_libs/parsers.pyx\u001b[0m in \u001b[0;36mpandas._libs.parsers.TextReader._convert_column_data\u001b[0;34m()\u001b[0m\n",
            "\u001b[0;32m/usr/local/lib/python3.7/dist-packages/pandas/core/dtypes/common.py\u001b[0m in \u001b[0;36mis_extension_array_dtype\u001b[0;34m(arr_or_dtype)\u001b[0m\n\u001b[1;32m   1458\u001b[0m \u001b[0;34m\u001b[0m\u001b[0m\n\u001b[1;32m   1459\u001b[0m \u001b[0;34m\u001b[0m\u001b[0m\n\u001b[0;32m-> 1460\u001b[0;31m \u001b[0;32mdef\u001b[0m \u001b[0mis_extension_array_dtype\u001b[0m\u001b[0;34m(\u001b[0m\u001b[0marr_or_dtype\u001b[0m\u001b[0;34m)\u001b[0m \u001b[0;34m->\u001b[0m \u001b[0mbool\u001b[0m\u001b[0;34m:\u001b[0m\u001b[0;34m\u001b[0m\u001b[0;34m\u001b[0m\u001b[0m\n\u001b[0m\u001b[1;32m   1461\u001b[0m     \"\"\"\n\u001b[1;32m   1462\u001b[0m     \u001b[0mCheck\u001b[0m \u001b[0;32mif\u001b[0m \u001b[0man\u001b[0m \u001b[0mobject\u001b[0m \u001b[0;32mis\u001b[0m \u001b[0ma\u001b[0m \u001b[0mpandas\u001b[0m \u001b[0mextension\u001b[0m \u001b[0marray\u001b[0m \u001b[0mtype\u001b[0m\u001b[0;34m.\u001b[0m\u001b[0;34m\u001b[0m\u001b[0;34m\u001b[0m\u001b[0m\n",
            "\u001b[0;31mKeyboardInterrupt\u001b[0m: "
          ]
        }
      ]
    },
    {
      "cell_type": "code",
      "metadata": {
        "id": "CJOklr3f7nu2"
      },
      "source": [
        ""
      ],
      "execution_count": null,
      "outputs": []
    },
    {
      "cell_type": "code",
      "metadata": {
        "id": "I0AW3UMeZMYp"
      },
      "source": [
        "# Query Model\n",
        "dfa.to_sql('test_a', conn)\n",
        "dfb.to_sql('test_b', conn)\n",
        "\n",
        "query = \"\"\"SELECT test_a.name as namea,b,c,d,e \n",
        "           FROM test_a JOIN test_b \n",
        "           on test_a.name  = test_b.name \"\"\"\n",
        "q = pd.read_sql(query, conn)\n",
        "q"
      ],
      "execution_count": null,
      "outputs": []
    }
  ]
}