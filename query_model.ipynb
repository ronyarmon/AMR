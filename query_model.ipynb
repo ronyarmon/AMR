{
  "nbformat": 4,
  "nbformat_minor": 0,
  "metadata": {
    "colab": {
      "name": "query_model.ipynb",
      "provenance": [],
      "authorship_tag": "ABX9TyOIi1v02jw0kHhNAs87U+Dd",
      "include_colab_link": true
    },
    "kernelspec": {
      "name": "python3",
      "display_name": "Python 3"
    },
    "language_info": {
      "name": "python"
    }
  },
  "cells": [
    {
      "cell_type": "markdown",
      "metadata": {
        "id": "view-in-github",
        "colab_type": "text"
      },
      "source": [
        "<a href=\"https://colab.research.google.com/github/ronyarmon/AMR/blob/master/query_model.ipynb\" target=\"_parent\"><img src=\"https://colab.research.google.com/assets/colab-badge.svg\" alt=\"Open In Colab\"/></a>"
      ]
    },
    {
      "cell_type": "markdown",
      "metadata": {
        "id": "_gFdWFgALs10"
      },
      "source": [
        "#Functions"
      ]
    },
    {
      "cell_type": "code",
      "metadata": {
        "id": "SCNZmW3GLsQ5"
      },
      "source": [
        "import os\n",
        "import pandas as pd \n",
        "from google.colab import drive\n",
        "from sqlite3 import connect\n",
        "conn = connect(':memory:')  "
      ],
      "execution_count": 1,
      "outputs": []
    },
    {
      "cell_type": "markdown",
      "metadata": {
        "id": "qF2dMS7XLpGn"
      },
      "source": [
        "#Columns metadata"
      ]
    },
    {
      "cell_type": "code",
      "metadata": {
        "colab": {
          "base_uri": "https://localhost:8080/"
        },
        "id": "xBYdTLQOLcOS",
        "outputId": "fb6a56f2-997d-45d3-d7a5-5163e661f12d"
      },
      "source": [
        "data_results_path = '/content/drive/MyDrive/data_results/mlb-player-digital-engagement-forecasting'\n",
        "drive.mount('/content/drive')\n",
        "file_path = os.path.join(data_results_path, 'columns_classification.csv')\n",
        "columns_md = pd.read_csv(file_path)\n",
        "predictors = list(columns_md['column'][columns_md['role']=='predictor'])\n",
        "date_fields = list(columns_md['column'][columns_md['role']=='date'])"
      ],
      "execution_count": 2,
      "outputs": [
        {
          "output_type": "stream",
          "text": [
            "Drive already mounted at /content/drive; to attempt to forcibly remount, call drive.mount(\"/content/drive\", force_remount=True).\n"
          ],
          "name": "stdout"
        }
      ]
    },
    {
      "cell_type": "code",
      "metadata": {
        "colab": {
          "base_uri": "https://localhost:8080/",
          "height": 206
        },
        "id": "T_PHPzcpaL2F",
        "outputId": "dbfa4174-a7b8-47df-838f-c2553d0c4679"
      },
      "source": [
        "columns_md.head()"
      ],
      "execution_count": 3,
      "outputs": [
        {
          "output_type": "execute_result",
          "data": {
            "text/html": [
              "<div>\n",
              "<style scoped>\n",
              "    .dataframe tbody tr th:only-of-type {\n",
              "        vertical-align: middle;\n",
              "    }\n",
              "\n",
              "    .dataframe tbody tr th {\n",
              "        vertical-align: top;\n",
              "    }\n",
              "\n",
              "    .dataframe thead th {\n",
              "        text-align: right;\n",
              "    }\n",
              "</style>\n",
              "<table border=\"1\" class=\"dataframe\">\n",
              "  <thead>\n",
              "    <tr style=\"text-align: right;\">\n",
              "      <th></th>\n",
              "      <th>column</th>\n",
              "      <th>topic</th>\n",
              "      <th>role</th>\n",
              "      <th>source_type</th>\n",
              "      <th>inferred_type</th>\n",
              "      <th>values_count</th>\n",
              "    </tr>\n",
              "  </thead>\n",
              "  <tbody>\n",
              "    <tr>\n",
              "      <th>0</th>\n",
              "      <td>gameTimeUTC</td>\n",
              "      <td>games</td>\n",
              "      <td>time</td>\n",
              "      <td>object</td>\n",
              "      <td>numeric</td>\n",
              "      <td>5108</td>\n",
              "    </tr>\n",
              "    <tr>\n",
              "      <th>1</th>\n",
              "      <td>gameTimeUTC</td>\n",
              "      <td>teamBoxScores</td>\n",
              "      <td>time</td>\n",
              "      <td>object</td>\n",
              "      <td>numeric</td>\n",
              "      <td>4501</td>\n",
              "    </tr>\n",
              "    <tr>\n",
              "      <th>2</th>\n",
              "      <td>gameTimeUTC</td>\n",
              "      <td>events</td>\n",
              "      <td>time</td>\n",
              "      <td>object</td>\n",
              "      <td>numeric</td>\n",
              "      <td>4499</td>\n",
              "    </tr>\n",
              "    <tr>\n",
              "      <th>3</th>\n",
              "      <td>gamePk</td>\n",
              "      <td>games</td>\n",
              "      <td>predictor</td>\n",
              "      <td>int64</td>\n",
              "      <td>numeric</td>\n",
              "      <td>7693</td>\n",
              "    </tr>\n",
              "    <tr>\n",
              "      <th>4</th>\n",
              "      <td>season</td>\n",
              "      <td>events</td>\n",
              "      <td>predictor</td>\n",
              "      <td>int64</td>\n",
              "      <td>ordered</td>\n",
              "      <td>4</td>\n",
              "    </tr>\n",
              "  </tbody>\n",
              "</table>\n",
              "</div>"
            ],
            "text/plain": [
              "        column          topic  ... inferred_type values_count\n",
              "0  gameTimeUTC          games  ...       numeric         5108\n",
              "1  gameTimeUTC  teamBoxScores  ...       numeric         4501\n",
              "2  gameTimeUTC         events  ...       numeric         4499\n",
              "3       gamePk          games  ...       numeric         7693\n",
              "4       season         events  ...       ordered            4\n",
              "\n",
              "[5 rows x 6 columns]"
            ]
          },
          "metadata": {
            "tags": []
          },
          "execution_count": 3
        }
      ]
    },
    {
      "cell_type": "markdown",
      "metadata": {
        "id": "OK4PWbFu7qWX"
      },
      "source": [
        "#Build Topics and Target Databases"
      ]
    },
    {
      "cell_type": "code",
      "metadata": {
        "id": "dEbCGho87uJe"
      },
      "source": [
        "data_files = os.listdir(data_results_path)\n",
        "data_files = [tf for tf in data_files if tf!='columns_classification.csv']\n",
        "for data_file in data_files:\n",
        "  print ('data file:', data_file)\n",
        "  data_path = os.path.join(data_results_path, '{t}'.format(t=data_file))\n",
        "  data_file_db_name = data_file.replace ('.csv', '')\n",
        "  print ('data_file_db_name:', data_file_db_name)\n",
        "  pd.read_csv(data_path).to_sql('{df}'.format(df=data_file_db_name), conn)"
      ],
      "execution_count": null,
      "outputs": []
    },
    {
      "cell_type": "markdown",
      "metadata": {
        "id": "aVUpcQyszQ8W"
      },
      "source": [
        "#Topics with predicate fields"
      ]
    },
    {
      "cell_type": "markdown",
      "metadata": {
        "id": "VP903PQBM-q6"
      },
      "source": [
        "##ID columns"
      ]
    },
    {
      "cell_type": "code",
      "metadata": {
        "colab": {
          "base_uri": "https://localhost:8080/"
        },
        "id": "8lzT80BXM9UH",
        "outputId": "eeb19257-5d0d-461b-967f-49b47e8bbe8d"
      },
      "source": [
        "id_columns = list (columns_md['column'][columns_md['role']=='id'])\n",
        "print('id_columns:', id_columns)\n",
        "print ('id columns in more than one topic')\n",
        "id_columns_topics = {}\n",
        "for id_column in id_columns:\n",
        "  id_column_topics = list(columns_md['topic'][columns_md['column']==id_column])\n",
        "  #print (id_column, id_column_topics)\n",
        "  if len (id_column_topics)>1:\n",
        "    id_columns_topics [id_column] = id_column_topics\n",
        "\n",
        "for k,v in id_columns_topics.items(): print (k,v)"
      ],
      "execution_count": 36,
      "outputs": [
        {
          "output_type": "stream",
          "text": [
            "id_columns: ['playerId', 'awayId', 'pitcherTeamId', 'playerId', 'teamId', 'eventId', 'homeId', 'teamId', 'toTeamId', 'fromTeamId', 'awardId', 'teamId', 'divisionId', 'transactionId', 'playId', 'hitterTeamId', 'pitcherId', 'playerId', 'playerId', 'teamId', 'awardPlayerTeamId', 'hitterId']\n",
            "topics with id columns\n",
            "playerId ['transactions', 'playerTwitterFollowers', 'awards', 'rosters']\n",
            "teamId ['standings', 'teamBoxScores', 'teamTwitterFollowers', 'rosters']\n"
          ],
          "name": "stdout"
        }
      ]
    },
    {
      "cell_type": "markdown",
      "metadata": {
        "id": "EUMiV80dNCqW"
      },
      "source": [
        "## Date columns"
      ]
    },
    {
      "cell_type": "code",
      "metadata": {
        "colab": {
          "base_uri": "https://localhost:8080/"
        },
        "id": "XOVgqgHvzash",
        "outputId": "54ebe96f-4d7a-4a84-b697-5d1521d40fd5"
      },
      "source": [
        "date_columns = list (columns_md['column'][columns_md['role']=='date'])\n",
        "print ('date_columns:', date_columns)\n",
        "playerId_topics = list (columns_md['topic'][columns_md['column']=='playerId'])\n",
        "print('playerId_topics:', player_id_topics)\n",
        "# playerId_date_topics \n",
        "topics = list(set(columns_md['topic']))\n",
        "print ('topics:', topics)\n",
        "playerId_date_topics = {}\n",
        "for topic in topics:\n",
        "  topic_columns = list(columns_md['column'][columns_md['topic']==topic])\n",
        "  print(topic, topic_columns)\n",
        "  topic_date_columns = [c for c in topic_columns if c in date_columns]\n",
        "  print (topic_date_columns)\n",
        "  print (30*'-')"
      ],
      "execution_count": 31,
      "outputs": [
        {
          "output_type": "stream",
          "text": [
            "id_columns: ['playerId', 'awayId', 'pitcherTeamId', 'playerId', 'teamId', 'eventId', 'homeId', 'teamId', 'toTeamId', 'fromTeamId', 'awardId', 'teamId', 'divisionId', 'transactionId', 'playId', 'hitterTeamId', 'pitcherId', 'playerId', 'playerId', 'teamId', 'awardPlayerTeamId', 'hitterId']\n",
            "topics with id columns\n",
            "playerId ['transactions', 'playerTwitterFollowers', 'awards', 'rosters']\n",
            "awayId ['games']\n",
            "pitcherTeamId ['events']\n",
            "playerId ['transactions', 'playerTwitterFollowers', 'awards', 'rosters']\n",
            "teamId ['standings', 'teamBoxScores', 'teamTwitterFollowers', 'rosters']\n",
            "eventId ['events']\n",
            "homeId ['games']\n",
            "teamId ['standings', 'teamBoxScores', 'teamTwitterFollowers', 'rosters']\n",
            "toTeamId ['transactions']\n",
            "fromTeamId ['transactions']\n",
            "awardId ['awards']\n",
            "teamId ['standings', 'teamBoxScores', 'teamTwitterFollowers', 'rosters']\n",
            "divisionId ['standings']\n",
            "transactionId ['transactions']\n",
            "playId ['events']\n",
            "hitterTeamId ['events']\n",
            "pitcherId ['events']\n",
            "playerId ['transactions', 'playerTwitterFollowers', 'awards', 'rosters']\n",
            "playerId ['transactions', 'playerTwitterFollowers', 'awards', 'rosters']\n",
            "teamId ['standings', 'teamBoxScores', 'teamTwitterFollowers', 'rosters']\n",
            "awardPlayerTeamId ['awards']\n",
            "hitterId ['events']\n",
            "date_columns: ['gameDate', 'resumeDate', 'gameDate', 'date', 'gameDate', 'date', 'effectiveDate', 'date', 'awardDate', 'gameDate', 'gameDate', 'resolutionDate']\n",
            "playerId_topics: ['transactions', 'playerTwitterFollowers', 'awards', 'rosters']\n",
            "topics: ['columns_classification', 'games', 'teamBoxScores', 'events', 'teamTwitterFollowers', 'playerTwitterFollowers', 'rosters', 'transactions', 'standings', 'awards']\n",
            "columns_classification ['feature', 'topic', 'role', 'source_type', 'inferred_type', 'values_count']\n",
            "[]\n",
            "------------------------------\n",
            "games ['gameTimeUTC', 'gamePk', 'gameType', 'homeAbbrev', 'season', 'resumedFrom', 'codedGameState', 'detailedGameState', 'isTie', 'gameNumber', 'doubleHeader', 'dayNight', 'scheduledInnings', 'gamesInSeries', 'homeWins', 'homeLosses', 'homeWinPct', 'homeWinner', 'homeScore', 'awayAbbrev', 'awayWins', 'awayLosses', 'awayWinPct', 'awayWinner', 'awayScore', 'awayId', 'homeId', 'seriesDescription', 'gameDate', 'resumeDate']\n",
            "['gameDate', 'resumeDate']\n",
            "------------------------------\n",
            "teamBoxScores ['gameTimeUTC', 'airOutsPitching', 'flyOuts', 'groundOuts', 'runsScored', 'doubles', 'triples', 'homeRuns', 'strikeOuts', 'baseOnBalls', 'intentionalWalks', 'hits', 'hitByPitch', 'atBats', 'caughtStealing', 'stolenBases', 'groundIntoDoublePlay', 'groundIntoTriplePlay', 'plateAppearances', 'totalBases', 'leftOnBase', 'sacBunts', 'sacFlies', 'catchersInterference', 'gamePk', 'home', 'pickoffs', 'rbi', 'groundOutsPitching', 'caughtStealingPitching', 'inningsPitched', 'earnedRuns', 'battersFaced', 'outsPitching', 'hitBatsmen', 'balks', 'wildPitches', 'pickoffsPitching', 'runsPitching', 'inheritedRunners', 'inheritedRunnersScored', 'catchersInterferencePitching', 'sacBuntsPitching', 'sacFliesPitching', 'stolenBasesPitching', 'rbiPitching', 'atBatsPitching', 'intentionalWalksPitching', 'doublesPitching', 'triplesPitching', 'hitByPitchPitching', 'homeRunsPitching', 'strikeOutsPitching', 'baseOnBallsPitching', 'hitsPitching', 'teamId', 'gameDate']\n",
            "['gameDate']\n",
            "------------------------------\n",
            "events ['gameTimeUTC', 'season', 'gamePk', 'gameType', 'inning', 'halfInning', 'homeScore', 'awayScore', 'menOnBase', 'atBatIndex', 'atBatEvent', 'hasOut', 'isPitcherHome', 'pitcherTeam', 'hitterTeam', 'pitcherHand', 'isStarter', 'batSide', 'pZ', 'aY', 'aZ', 'pfxX', 'pfxZ', 'vX0', 'vY0', 'vZ0', 'x', 'y', 'x0', 'y0', 'z0', 'type', 'zone', 'aX', 'pX', 'pitchNumber', 'spinDirection', 'balls', 'strikes', 'isGB', 'isLD', 'isFB', 'isPU', 'launchSpeed', 'launchAngle', 'totalDistance', 'event', 'rbi', 'pitchType', 'call', 'outs', 'inPlay', 'isPaOver', 'startSpeed', 'endSpeed', 'nastyFactor', 'breakAngle', 'breakLength', 'breakY', 'spinRate', 'pitcherTeamId', 'eventId', 'playId', 'hitterTeamId', 'pitcherId', 'hitterId', 'description', 'atBatDesc', 'gameDate']\n",
            "['gameDate']\n",
            "------------------------------\n",
            "teamTwitterFollowers ['twitterHandle', 'numberOfFollowers', 'teamId', 'date']\n",
            "['date']\n",
            "------------------------------\n",
            "playerTwitterFollowers ['twitterHandle', 'numberOfFollowers', 'playerId', 'date']\n",
            "['date']\n",
            "------------------------------\n",
            "rosters ['status', 'statusCode', 'playerId', 'teamId', 'gameDate']\n",
            "['gameDate']\n",
            "------------------------------\n",
            "transactions ['typeCode', 'playerId', 'toTeamId', 'fromTeamId', 'transactionId', 'typeDesc', 'description', 'effectiveDate', 'date', 'resolutionDate']\n",
            "['effectiveDate', 'date', 'resolutionDate']\n",
            "------------------------------\n",
            "standings ['divWins', 'divLosses', 'alWins', 'alLosses', 'nlWins', 'nlLosses', 'xWinLossPct', 'turfWins', 'turfLosses', 'grassLosses', 'homeLosses', 'wins', 'losses', 'pct', 'runsAllowed', 'runsScored', 'divisionLeader', 'wildCardLeader', 'eliminationNumber', 'wildCardEliminationNumber', 'homeWins', 'awayWins', 'grassWins', 'awayLosses', 'lastTenWins', 'lastTenLosses', 'extraInningWins', 'extraInningLosses', 'oneRunWins', 'oneRunLosses', 'dayWins', 'dayLosses', 'nightWins', 'nightLosses', 'sportGamesBack', 'divisionGamesBack', 'divisionChamp', 'leagueGamesBack', 'wildCardRank', 'season', 'streakCode', 'divisionRank', 'leagueRank', 'teamId', 'divisionId', 'gameDate']\n",
            "['gameDate']\n",
            "------------------------------\n",
            "awards ['awardSeason', 'awardId', 'playerId', 'awardPlayerTeamId', 'awardDate']\n",
            "['awardDate']\n",
            "------------------------------\n"
          ],
          "name": "stdout"
        }
      ]
    },
    {
      "cell_type": "markdown",
      "metadata": {
        "id": "F2rgJoY-LRQH"
      },
      "source": [
        "\n",
        "#Featue Join Plan\n",
        "\n",
        "Goal: Join data per feature to target on playerIds and dates\n",
        "pId_df = playerId_dataset\n",
        "d_df = dates_dataset\n",
        "features = columns in piD_df\n",
        "each piD_df may include more than one date columns\n",
        "dcols = date columns in piD_df (dcol 1..n dcols; max(n) appears 2-3)\n",
        "for each dcol dcols:\n",
        "\n",
        "    feature_df = piD_df (feature, dcol, playerID)\n",
        "    join feature_df to target_df on:\n",
        "    feature_df.playerID = target_df.playerID\n",
        "    feature_df.dcol = target_df.date\n",
        "\n"
      ]
    },
    {
      "cell_type": "markdown",
      "metadata": {
        "id": "ukWjqIuDPENb"
      },
      "source": [
        "#Query Predictors"
      ]
    },
    {
      "cell_type": "code",
      "metadata": {
        "colab": {
          "base_uri": "https://localhost:8080/",
          "height": 1000
        },
        "id": "rUG8PJygPFnO",
        "outputId": "206b789b-871f-4035-ed8c-a01809a2ddd8"
      },
      "source": [
        "for predictor in predictors:\n",
        "  print ('predictor:', predictor)\n",
        "  topic = columns_md['topic'][columns_md['column']==predictor].values[0]\n",
        "  print (predictor, topic)\n",
        "  topic_path = os.path.join(data_results_path, '{t}.csv'.format(t=topic))\n",
        "  topic_df = pd.read_csv(topic_path)\n",
        "  print (topic_df.head())\n",
        "  topic_columns = topic_df.columns\n",
        "  date_columns = [t for t in topic_columns if t in date_columns]\n",
        "  print ('date_columns:', date_columns)\n",
        "  if ((len(date_columns)>0) & ('playerId' in topic_columns)):\n",
        "    for date_column in date_columns:\n",
        "      query = \"\"\"SELECT {to}.{p}, {ta}.target1 \n",
        "                FROM {to} JOIN {ta} \n",
        "                on to.playerId  = ta.playerId\"\"\"\\\n",
        "                .format(to=topic, ta=target_df, p=predictor)\n",
        "      print (query)\n",
        "      query_df = pd.read_sql(query, conn)\n",
        "      print (type (query_df))\n",
        "      print(query_df.head())\n",
        "      print(query_df.info())\n",
        "      "
      ],
      "execution_count": 23,
      "outputs": [
        {
          "output_type": "stream",
          "text": [
            "predictor: gamePk\n",
            "gamePk games\n",
            "   gamePk gameType  season  ... awayWinPct awayWinner awayScore\n",
            "0  533782        E    2018  ...        0.0        0.0       2.0\n",
            "1  534461        E    2018  ...        0.0        0.0       1.0\n",
            "2  545334        E    2018  ...        0.0        0.0       0.0\n",
            "3  547295        E    2018  ...        0.0        0.0       2.0\n",
            "4  533784        E    2018  ...        0.0        0.0       1.0\n",
            "\n",
            "[5 rows x 32 columns]\n",
            "date_columns: ['gameDate', 'resumeDate']\n",
            "predictor: season\n",
            "season events\n",
            "   gamePk    gameDate           gameTimeUTC  season  ...  y0  z0    type  zone\n",
            "0  529409  2018-03-29  2018-03-30T02:10:00Z    2018  ... NaN NaN  action   NaN\n",
            "1  529416  2018-03-29  2018-03-29T20:10:00Z    2018  ... NaN NaN  action   NaN\n",
            "2  529416  2018-03-29  2018-03-29T20:10:00Z    2018  ... NaN NaN  action   NaN\n",
            "3  529411  2018-03-29  2018-03-29T19:35:00Z    2018  ... NaN NaN  action   NaN\n",
            "4  529406  2018-03-29  2018-03-29T20:00:00Z    2018  ... NaN NaN  action   NaN\n",
            "\n",
            "[5 rows x 71 columns]\n",
            "date_columns: ['gameDate']\n",
            "predictor: divWins\n",
            "divWins standings\n",
            "   season    gameDate  divisionId  ...  nlWins nlLosses xWinLossPct\n",
            "0    2018  2018-03-29         205  ...     0.0      0.0         0.0\n",
            "1    2018  2018-03-29         204  ...     0.0      1.0         0.0\n",
            "2    2018  2018-03-29         204  ...     1.0      0.0         1.0\n",
            "3    2018  2018-03-29         200  ...     0.0      0.0         0.0\n",
            "4    2018  2018-03-29         204  ...     0.0      0.0         0.0\n",
            "\n",
            "[5 rows x 47 columns]\n",
            "date_columns: ['gameDate']\n",
            "predictor: divLosses\n",
            "divLosses standings\n",
            "   season    gameDate  divisionId  ...  nlWins nlLosses xWinLossPct\n",
            "0    2018  2018-03-29         205  ...     0.0      0.0         0.0\n",
            "1    2018  2018-03-29         204  ...     0.0      1.0         0.0\n",
            "2    2018  2018-03-29         204  ...     1.0      0.0         1.0\n",
            "3    2018  2018-03-29         200  ...     0.0      0.0         0.0\n",
            "4    2018  2018-03-29         204  ...     0.0      0.0         0.0\n",
            "\n",
            "[5 rows x 47 columns]\n",
            "date_columns: ['gameDate']\n",
            "predictor: alWins\n",
            "alWins standings\n",
            "   season    gameDate  divisionId  ...  nlWins nlLosses xWinLossPct\n",
            "0    2018  2018-03-29         205  ...     0.0      0.0         0.0\n",
            "1    2018  2018-03-29         204  ...     0.0      1.0         0.0\n",
            "2    2018  2018-03-29         204  ...     1.0      0.0         1.0\n",
            "3    2018  2018-03-29         200  ...     0.0      0.0         0.0\n",
            "4    2018  2018-03-29         204  ...     0.0      0.0         0.0\n",
            "\n",
            "[5 rows x 47 columns]\n",
            "date_columns: ['gameDate']\n",
            "predictor: alLosses\n",
            "alLosses standings\n",
            "   season    gameDate  divisionId  ...  nlWins nlLosses xWinLossPct\n",
            "0    2018  2018-03-29         205  ...     0.0      0.0         0.0\n",
            "1    2018  2018-03-29         204  ...     0.0      1.0         0.0\n",
            "2    2018  2018-03-29         204  ...     1.0      0.0         1.0\n",
            "3    2018  2018-03-29         200  ...     0.0      0.0         0.0\n",
            "4    2018  2018-03-29         204  ...     0.0      0.0         0.0\n",
            "\n",
            "[5 rows x 47 columns]\n",
            "date_columns: ['gameDate']\n",
            "predictor: nlWins\n",
            "nlWins standings\n",
            "   season    gameDate  divisionId  ...  nlWins nlLosses xWinLossPct\n",
            "0    2018  2018-03-29         205  ...     0.0      0.0         0.0\n",
            "1    2018  2018-03-29         204  ...     0.0      1.0         0.0\n",
            "2    2018  2018-03-29         204  ...     1.0      0.0         1.0\n",
            "3    2018  2018-03-29         200  ...     0.0      0.0         0.0\n",
            "4    2018  2018-03-29         204  ...     0.0      0.0         0.0\n",
            "\n",
            "[5 rows x 47 columns]\n",
            "date_columns: ['gameDate']\n",
            "predictor: nlLosses\n",
            "nlLosses standings\n",
            "   season    gameDate  divisionId  ...  nlWins nlLosses xWinLossPct\n",
            "0    2018  2018-03-29         205  ...     0.0      0.0         0.0\n",
            "1    2018  2018-03-29         204  ...     0.0      1.0         0.0\n",
            "2    2018  2018-03-29         204  ...     1.0      0.0         1.0\n",
            "3    2018  2018-03-29         200  ...     0.0      0.0         0.0\n",
            "4    2018  2018-03-29         204  ...     0.0      0.0         0.0\n",
            "\n",
            "[5 rows x 47 columns]\n",
            "date_columns: ['gameDate']\n",
            "predictor: xWinLossPct\n",
            "xWinLossPct standings\n",
            "   season    gameDate  divisionId  ...  nlWins nlLosses xWinLossPct\n",
            "0    2018  2018-03-29         205  ...     0.0      0.0         0.0\n",
            "1    2018  2018-03-29         204  ...     0.0      1.0         0.0\n",
            "2    2018  2018-03-29         204  ...     1.0      0.0         1.0\n",
            "3    2018  2018-03-29         200  ...     0.0      0.0         0.0\n",
            "4    2018  2018-03-29         204  ...     0.0      0.0         0.0\n",
            "\n",
            "[5 rows x 47 columns]\n",
            "date_columns: ['gameDate']\n",
            "predictor: awardSeason\n",
            "awardSeason awards\n",
            "   awardId  ... awardPlayerTeamId\n",
            "0  VWLCPOY  ...             699.0\n",
            "1   VWLPOY  ...             699.0\n",
            "2   VWLMOY  ...             695.0\n",
            "3  VWLRLOY  ...             694.0\n",
            "4  VWLOPOY  ...             699.0\n",
            "\n",
            "[5 rows x 7 columns]\n",
            "date_columns: []\n",
            "predictor: gamePk\n",
            "gamePk games\n",
            "   gamePk gameType  season  ... awayWinPct awayWinner awayScore\n",
            "0  533782        E    2018  ...        0.0        0.0       2.0\n",
            "1  534461        E    2018  ...        0.0        0.0       1.0\n",
            "2  545334        E    2018  ...        0.0        0.0       0.0\n",
            "3  547295        E    2018  ...        0.0        0.0       2.0\n",
            "4  533784        E    2018  ...        0.0        0.0       1.0\n",
            "\n",
            "[5 rows x 32 columns]\n",
            "date_columns: []\n",
            "predictor: gameType\n",
            "gameType events\n",
            "   gamePk    gameDate           gameTimeUTC  season  ...  y0  z0    type  zone\n",
            "0  529409  2018-03-29  2018-03-30T02:10:00Z    2018  ... NaN NaN  action   NaN\n",
            "1  529416  2018-03-29  2018-03-29T20:10:00Z    2018  ... NaN NaN  action   NaN\n",
            "2  529416  2018-03-29  2018-03-29T20:10:00Z    2018  ... NaN NaN  action   NaN\n",
            "3  529411  2018-03-29  2018-03-29T19:35:00Z    2018  ... NaN NaN  action   NaN\n",
            "4  529406  2018-03-29  2018-03-29T20:00:00Z    2018  ... NaN NaN  action   NaN\n",
            "\n",
            "[5 rows x 71 columns]\n",
            "date_columns: []\n",
            "predictor: turfWins\n",
            "turfWins standings\n",
            "   season    gameDate  divisionId  ...  nlWins nlLosses xWinLossPct\n",
            "0    2018  2018-03-29         205  ...     0.0      0.0         0.0\n",
            "1    2018  2018-03-29         204  ...     0.0      1.0         0.0\n",
            "2    2018  2018-03-29         204  ...     1.0      0.0         1.0\n",
            "3    2018  2018-03-29         200  ...     0.0      0.0         0.0\n",
            "4    2018  2018-03-29         204  ...     0.0      0.0         0.0\n",
            "\n",
            "[5 rows x 47 columns]\n",
            "date_columns: []\n",
            "predictor: inning\n",
            "inning events\n",
            "   gamePk    gameDate           gameTimeUTC  season  ...  y0  z0    type  zone\n",
            "0  529409  2018-03-29  2018-03-30T02:10:00Z    2018  ... NaN NaN  action   NaN\n",
            "1  529416  2018-03-29  2018-03-29T20:10:00Z    2018  ... NaN NaN  action   NaN\n",
            "2  529416  2018-03-29  2018-03-29T20:10:00Z    2018  ... NaN NaN  action   NaN\n",
            "3  529411  2018-03-29  2018-03-29T19:35:00Z    2018  ... NaN NaN  action   NaN\n",
            "4  529406  2018-03-29  2018-03-29T20:00:00Z    2018  ... NaN NaN  action   NaN\n",
            "\n",
            "[5 rows x 71 columns]\n",
            "date_columns: []\n",
            "predictor: halfInning\n",
            "halfInning events\n"
          ],
          "name": "stdout"
        },
        {
          "output_type": "error",
          "ename": "KeyboardInterrupt",
          "evalue": "ignored",
          "traceback": [
            "\u001b[0;31m---------------------------------------------------------------------------\u001b[0m",
            "\u001b[0;31mKeyboardInterrupt\u001b[0m                         Traceback (most recent call last)",
            "\u001b[0;32m<ipython-input-23-68b98f139450>\u001b[0m in \u001b[0;36m<module>\u001b[0;34m()\u001b[0m\n\u001b[1;32m      4\u001b[0m   \u001b[0mprint\u001b[0m \u001b[0;34m(\u001b[0m\u001b[0mpredictor\u001b[0m\u001b[0;34m,\u001b[0m \u001b[0mtopic\u001b[0m\u001b[0;34m)\u001b[0m\u001b[0;34m\u001b[0m\u001b[0;34m\u001b[0m\u001b[0m\n\u001b[1;32m      5\u001b[0m   \u001b[0mtopic_path\u001b[0m \u001b[0;34m=\u001b[0m \u001b[0mos\u001b[0m\u001b[0;34m.\u001b[0m\u001b[0mpath\u001b[0m\u001b[0;34m.\u001b[0m\u001b[0mjoin\u001b[0m\u001b[0;34m(\u001b[0m\u001b[0mdata_results_path\u001b[0m\u001b[0;34m,\u001b[0m \u001b[0;34m'{t}.csv'\u001b[0m\u001b[0;34m.\u001b[0m\u001b[0mformat\u001b[0m\u001b[0;34m(\u001b[0m\u001b[0mt\u001b[0m\u001b[0;34m=\u001b[0m\u001b[0mtopic\u001b[0m\u001b[0;34m)\u001b[0m\u001b[0;34m)\u001b[0m\u001b[0;34m\u001b[0m\u001b[0;34m\u001b[0m\u001b[0m\n\u001b[0;32m----> 6\u001b[0;31m   \u001b[0mtopic_df\u001b[0m \u001b[0;34m=\u001b[0m \u001b[0mpd\u001b[0m\u001b[0;34m.\u001b[0m\u001b[0mread_csv\u001b[0m\u001b[0;34m(\u001b[0m\u001b[0mtopic_path\u001b[0m\u001b[0;34m)\u001b[0m\u001b[0;34m\u001b[0m\u001b[0;34m\u001b[0m\u001b[0m\n\u001b[0m\u001b[1;32m      7\u001b[0m   \u001b[0mprint\u001b[0m \u001b[0;34m(\u001b[0m\u001b[0mtopic_df\u001b[0m\u001b[0;34m.\u001b[0m\u001b[0mhead\u001b[0m\u001b[0;34m(\u001b[0m\u001b[0;34m)\u001b[0m\u001b[0;34m)\u001b[0m\u001b[0;34m\u001b[0m\u001b[0;34m\u001b[0m\u001b[0m\n\u001b[1;32m      8\u001b[0m   \u001b[0mtopic_columns\u001b[0m \u001b[0;34m=\u001b[0m \u001b[0mtopic_df\u001b[0m\u001b[0;34m.\u001b[0m\u001b[0mcolumns\u001b[0m\u001b[0;34m\u001b[0m\u001b[0;34m\u001b[0m\u001b[0m\n",
            "\u001b[0;32m/usr/local/lib/python3.7/dist-packages/pandas/io/parsers.py\u001b[0m in \u001b[0;36mread_csv\u001b[0;34m(filepath_or_buffer, sep, delimiter, header, names, index_col, usecols, squeeze, prefix, mangle_dupe_cols, dtype, engine, converters, true_values, false_values, skipinitialspace, skiprows, skipfooter, nrows, na_values, keep_default_na, na_filter, verbose, skip_blank_lines, parse_dates, infer_datetime_format, keep_date_col, date_parser, dayfirst, cache_dates, iterator, chunksize, compression, thousands, decimal, lineterminator, quotechar, quoting, doublequote, escapechar, comment, encoding, dialect, error_bad_lines, warn_bad_lines, delim_whitespace, low_memory, memory_map, float_precision)\u001b[0m\n\u001b[1;32m    686\u001b[0m     )\n\u001b[1;32m    687\u001b[0m \u001b[0;34m\u001b[0m\u001b[0m\n\u001b[0;32m--> 688\u001b[0;31m     \u001b[0;32mreturn\u001b[0m \u001b[0m_read\u001b[0m\u001b[0;34m(\u001b[0m\u001b[0mfilepath_or_buffer\u001b[0m\u001b[0;34m,\u001b[0m \u001b[0mkwds\u001b[0m\u001b[0;34m)\u001b[0m\u001b[0;34m\u001b[0m\u001b[0;34m\u001b[0m\u001b[0m\n\u001b[0m\u001b[1;32m    689\u001b[0m \u001b[0;34m\u001b[0m\u001b[0m\n\u001b[1;32m    690\u001b[0m \u001b[0;34m\u001b[0m\u001b[0m\n",
            "\u001b[0;32m/usr/local/lib/python3.7/dist-packages/pandas/io/parsers.py\u001b[0m in \u001b[0;36m_read\u001b[0;34m(filepath_or_buffer, kwds)\u001b[0m\n\u001b[1;32m    458\u001b[0m \u001b[0;34m\u001b[0m\u001b[0m\n\u001b[1;32m    459\u001b[0m     \u001b[0;32mtry\u001b[0m\u001b[0;34m:\u001b[0m\u001b[0;34m\u001b[0m\u001b[0;34m\u001b[0m\u001b[0m\n\u001b[0;32m--> 460\u001b[0;31m         \u001b[0mdata\u001b[0m \u001b[0;34m=\u001b[0m \u001b[0mparser\u001b[0m\u001b[0;34m.\u001b[0m\u001b[0mread\u001b[0m\u001b[0;34m(\u001b[0m\u001b[0mnrows\u001b[0m\u001b[0;34m)\u001b[0m\u001b[0;34m\u001b[0m\u001b[0;34m\u001b[0m\u001b[0m\n\u001b[0m\u001b[1;32m    461\u001b[0m     \u001b[0;32mfinally\u001b[0m\u001b[0;34m:\u001b[0m\u001b[0;34m\u001b[0m\u001b[0;34m\u001b[0m\u001b[0m\n\u001b[1;32m    462\u001b[0m         \u001b[0mparser\u001b[0m\u001b[0;34m.\u001b[0m\u001b[0mclose\u001b[0m\u001b[0;34m(\u001b[0m\u001b[0;34m)\u001b[0m\u001b[0;34m\u001b[0m\u001b[0;34m\u001b[0m\u001b[0m\n",
            "\u001b[0;32m/usr/local/lib/python3.7/dist-packages/pandas/io/parsers.py\u001b[0m in \u001b[0;36mread\u001b[0;34m(self, nrows)\u001b[0m\n\u001b[1;32m   1196\u001b[0m     \u001b[0;32mdef\u001b[0m \u001b[0mread\u001b[0m\u001b[0;34m(\u001b[0m\u001b[0mself\u001b[0m\u001b[0;34m,\u001b[0m \u001b[0mnrows\u001b[0m\u001b[0;34m=\u001b[0m\u001b[0;32mNone\u001b[0m\u001b[0;34m)\u001b[0m\u001b[0;34m:\u001b[0m\u001b[0;34m\u001b[0m\u001b[0;34m\u001b[0m\u001b[0m\n\u001b[1;32m   1197\u001b[0m         \u001b[0mnrows\u001b[0m \u001b[0;34m=\u001b[0m \u001b[0m_validate_integer\u001b[0m\u001b[0;34m(\u001b[0m\u001b[0;34m\"nrows\"\u001b[0m\u001b[0;34m,\u001b[0m \u001b[0mnrows\u001b[0m\u001b[0;34m)\u001b[0m\u001b[0;34m\u001b[0m\u001b[0;34m\u001b[0m\u001b[0m\n\u001b[0;32m-> 1198\u001b[0;31m         \u001b[0mret\u001b[0m \u001b[0;34m=\u001b[0m \u001b[0mself\u001b[0m\u001b[0;34m.\u001b[0m\u001b[0m_engine\u001b[0m\u001b[0;34m.\u001b[0m\u001b[0mread\u001b[0m\u001b[0;34m(\u001b[0m\u001b[0mnrows\u001b[0m\u001b[0;34m)\u001b[0m\u001b[0;34m\u001b[0m\u001b[0;34m\u001b[0m\u001b[0m\n\u001b[0m\u001b[1;32m   1199\u001b[0m \u001b[0;34m\u001b[0m\u001b[0m\n\u001b[1;32m   1200\u001b[0m         \u001b[0;31m# May alter columns / col_dict\u001b[0m\u001b[0;34m\u001b[0m\u001b[0;34m\u001b[0m\u001b[0;34m\u001b[0m\u001b[0m\n",
            "\u001b[0;32m/usr/local/lib/python3.7/dist-packages/pandas/io/parsers.py\u001b[0m in \u001b[0;36mread\u001b[0;34m(self, nrows)\u001b[0m\n\u001b[1;32m   2155\u001b[0m     \u001b[0;32mdef\u001b[0m \u001b[0mread\u001b[0m\u001b[0;34m(\u001b[0m\u001b[0mself\u001b[0m\u001b[0;34m,\u001b[0m \u001b[0mnrows\u001b[0m\u001b[0;34m=\u001b[0m\u001b[0;32mNone\u001b[0m\u001b[0;34m)\u001b[0m\u001b[0;34m:\u001b[0m\u001b[0;34m\u001b[0m\u001b[0;34m\u001b[0m\u001b[0m\n\u001b[1;32m   2156\u001b[0m         \u001b[0;32mtry\u001b[0m\u001b[0;34m:\u001b[0m\u001b[0;34m\u001b[0m\u001b[0;34m\u001b[0m\u001b[0m\n\u001b[0;32m-> 2157\u001b[0;31m             \u001b[0mdata\u001b[0m \u001b[0;34m=\u001b[0m \u001b[0mself\u001b[0m\u001b[0;34m.\u001b[0m\u001b[0m_reader\u001b[0m\u001b[0;34m.\u001b[0m\u001b[0mread\u001b[0m\u001b[0;34m(\u001b[0m\u001b[0mnrows\u001b[0m\u001b[0;34m)\u001b[0m\u001b[0;34m\u001b[0m\u001b[0;34m\u001b[0m\u001b[0m\n\u001b[0m\u001b[1;32m   2158\u001b[0m         \u001b[0;32mexcept\u001b[0m \u001b[0mStopIteration\u001b[0m\u001b[0;34m:\u001b[0m\u001b[0;34m\u001b[0m\u001b[0;34m\u001b[0m\u001b[0m\n\u001b[1;32m   2159\u001b[0m             \u001b[0;32mif\u001b[0m \u001b[0mself\u001b[0m\u001b[0;34m.\u001b[0m\u001b[0m_first_chunk\u001b[0m\u001b[0;34m:\u001b[0m\u001b[0;34m\u001b[0m\u001b[0;34m\u001b[0m\u001b[0m\n",
            "\u001b[0;32mpandas/_libs/parsers.pyx\u001b[0m in \u001b[0;36mpandas._libs.parsers.TextReader.read\u001b[0;34m()\u001b[0m\n",
            "\u001b[0;32mpandas/_libs/parsers.pyx\u001b[0m in \u001b[0;36mpandas._libs.parsers.TextReader._read_low_memory\u001b[0;34m()\u001b[0m\n",
            "\u001b[0;32mpandas/_libs/parsers.pyx\u001b[0m in \u001b[0;36mpandas._libs.parsers.TextReader._read_rows\u001b[0;34m()\u001b[0m\n",
            "\u001b[0;32mpandas/_libs/parsers.pyx\u001b[0m in \u001b[0;36mpandas._libs.parsers.TextReader._convert_column_data\u001b[0;34m()\u001b[0m\n",
            "\u001b[0;32m/usr/local/lib/python3.7/dist-packages/pandas/core/dtypes/common.py\u001b[0m in \u001b[0;36mis_extension_array_dtype\u001b[0;34m(arr_or_dtype)\u001b[0m\n\u001b[1;32m   1458\u001b[0m \u001b[0;34m\u001b[0m\u001b[0m\n\u001b[1;32m   1459\u001b[0m \u001b[0;34m\u001b[0m\u001b[0m\n\u001b[0;32m-> 1460\u001b[0;31m \u001b[0;32mdef\u001b[0m \u001b[0mis_extension_array_dtype\u001b[0m\u001b[0;34m(\u001b[0m\u001b[0marr_or_dtype\u001b[0m\u001b[0;34m)\u001b[0m \u001b[0;34m->\u001b[0m \u001b[0mbool\u001b[0m\u001b[0;34m:\u001b[0m\u001b[0;34m\u001b[0m\u001b[0;34m\u001b[0m\u001b[0m\n\u001b[0m\u001b[1;32m   1461\u001b[0m     \"\"\"\n\u001b[1;32m   1462\u001b[0m     \u001b[0mCheck\u001b[0m \u001b[0;32mif\u001b[0m \u001b[0man\u001b[0m \u001b[0mobject\u001b[0m \u001b[0;32mis\u001b[0m \u001b[0ma\u001b[0m \u001b[0mpandas\u001b[0m \u001b[0mextension\u001b[0m \u001b[0marray\u001b[0m \u001b[0mtype\u001b[0m\u001b[0;34m.\u001b[0m\u001b[0;34m\u001b[0m\u001b[0;34m\u001b[0m\u001b[0m\n",
            "\u001b[0;31mKeyboardInterrupt\u001b[0m: "
          ]
        }
      ]
    },
    {
      "cell_type": "code",
      "metadata": {
        "id": "CJOklr3f7nu2"
      },
      "source": [
        ""
      ],
      "execution_count": null,
      "outputs": []
    },
    {
      "cell_type": "code",
      "metadata": {
        "id": "I0AW3UMeZMYp"
      },
      "source": [
        "# Query Model\n",
        "dfa.to_sql('test_a', conn)\n",
        "dfb.to_sql('test_b', conn)\n",
        "\n",
        "query = \"\"\"SELECT test_a.name as namea,b,c,d,e \n",
        "           FROM test_a JOIN test_b \n",
        "           on test_a.name  = test_b.name \"\"\"\n",
        "q = pd.read_sql(query, conn)\n",
        "q"
      ],
      "execution_count": null,
      "outputs": []
    }
  ]
}